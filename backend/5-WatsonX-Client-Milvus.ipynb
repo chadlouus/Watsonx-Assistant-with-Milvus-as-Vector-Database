{
 "cells": [
  {
   "cell_type": "markdown",
   "id": "cc029f17-95b7-4050-b650-b07a0d9e8e8f",
   "metadata": {},
   "source": [
    "# WatsonX.ai Client with Milvus and LangChain"
   ]
  },
  {
   "cell_type": "markdown",
   "id": "588ffbe7",
   "metadata": {},
   "source": [
    "This is the client Watsonx.ai LLM-driven question-answering application with Milvus and LangChain"
   ]
  },
  {
   "cell_type": "markdown",
   "id": "1882efd7",
   "metadata": {},
   "source": [
    "## Set up the environment\n",
    "Before you use the sample code in this notebook, you must perform the following setup tasks:\n",
    "\n",
    "Create a Watson [Machine Learning (WML)](https://console.ng.bluemix.net/catalog/services/ibm-watson-machine-learning/) Service instance (a free plan is offered and information about how to create the instance can be found [here](https://dataplatform.cloud.ibm.com/docs/content/wsj/analyze-data/ml-service-instance.html?context=analytics))."
   ]
  },
  {
   "cell_type": "markdown",
   "id": "d1657c0d",
   "metadata": {},
   "source": [
    "### Install and import dependecies"
   ]
  },
  {
   "cell_type": "code",
   "execution_count": 1,
   "id": "aae39e13",
   "metadata": {},
   "outputs": [],
   "source": [
    "from IPython.display import clear_output\n",
    "!pip install pymilvus\n",
    "!pip install \"langchain==0.0.345\" \n",
    "!pip install wget \n",
    "!pip install sentence-transformers \n",
    "!pip install chromadb==0.3.22 \n",
    "!pip install \"ibm-watson-machine-learning>=1.0.335\" \n",
    "!pip install \"pydantic>=1.4.0,<2\" \n",
    "!pip install bs4\n",
    "!pip install ipywidgets\n",
    "!pip install towhee towhee.models \n",
    "!pip install gradio \"pydantic>=1.4.0,<2\" datasets\n",
    "clear_output()\n"
   ]
  },
  {
   "cell_type": "markdown",
   "id": "9a25befd",
   "metadata": {},
   "source": [
    "### Prepare the Data"
   ]
  },
  {
   "cell_type": "code",
   "execution_count": 14,
   "id": "3042f30c",
   "metadata": {},
   "outputs": [],
   "source": [
    "from datasets import load_dataset\n",
    "from IPython.display import clear_output\n",
    "dataset = load_dataset(\"ruslanmv/ai-medical-chatbot\")\n",
    "clear_output()\n",
    "train_data = dataset[\"train\"]\n",
    "#For this demo let us choose the first 1000 dialogues\n",
    "import pandas as pd\n",
    "df = pd.DataFrame(train_data[:1000])\n",
    "#df = df[[\"Patient\", \"Doctor\"]].rename(columns={\"Patient\": \"question\", \"Doctor\": \"answer\"})\n",
    "df = df[[\"Description\", \"Doctor\"]].rename(columns={\"Description\": \"question\", \"Doctor\": \"answer\"})\n",
    "# Add the 'ID' column as the first column\n",
    "df.insert(0, 'id', df.index)\n",
    "# Reset the index and drop the previous index column\n",
    "df = df.reset_index(drop=True)\n",
    "import re\n",
    "# Clean the 'question' and 'answer' columns\n",
    "df['question'] = df['question'].apply(lambda x: re.sub(r'\\s+', ' ', x.strip()))\n",
    "df['answer'] = df['answer'].apply(lambda x: re.sub(r'\\s+', ' ', x.strip()))\n",
    "df['question'] = df['question'].str.replace('^Q.', '', regex=True)\n",
    "# Assuming your DataFrame is named df\n",
    "max_length = 500  # Due to our enbeeding model does not allow long strings\n",
    "df['question'] = df['question'].str.slice(0, max_length)\n",
    "#To use the dataset to get answers, let's first define the dictionary:\n",
    "#- `id_answer`: a dictionary of id and corresponding answer\n",
    "id_answer = df.set_index('id')['answer'].to_dict()\n"
   ]
  },
  {
   "cell_type": "markdown",
   "id": "1eec1e77",
   "metadata": {},
   "source": [
    "## Foundation Models on watsonx"
   ]
  },
  {
   "cell_type": "code",
   "execution_count": 15,
   "id": "49bd7442",
   "metadata": {},
   "outputs": [],
   "source": [
    "from dotenv import load_dotenv\n",
    "import os\n",
    "load_dotenv()\n",
    "try:\n",
    "    API_KEY = os.environ.get(\"API_KEY\")\n",
    "    project_id =os.environ.get(\"PROJECT_ID\")\n",
    "except KeyError:\n",
    "    API_KEY: input(\"Please enter your WML api key (hit enter): \")\n",
    "    project_id  = input(\"Please  project_id (hit enter): \")\n",
    "\n",
    "credentials = {\n",
    "    \"url\": \"https://us-south.ml.cloud.ibm.com\",\n",
    "    \"apikey\": API_KEY  \n",
    "}    "
   ]
  },
  {
   "cell_type": "markdown",
   "id": "8822ae30",
   "metadata": {},
   "source": [
    "\n",
    "### Defining model\n",
    "You need to specify model_id that will be used for inferencing:\n",
    "\n"
   ]
  },
  {
   "cell_type": "code",
   "execution_count": 16,
   "id": "c13acb27",
   "metadata": {},
   "outputs": [],
   "source": [
    "from ibm_watson_machine_learning.foundation_models.utils.enums import ModelTypes\n",
    "model_id = ModelTypes.GRANITE_13B_CHAT_V2"
   ]
  },
  {
   "cell_type": "markdown",
   "id": "4a932cde",
   "metadata": {},
   "source": [
    "## Defining the model parameters\n",
    "We need to provide a set of model parameters that will influence the result:"
   ]
  },
  {
   "cell_type": "code",
   "execution_count": 17,
   "id": "3b3e9f48",
   "metadata": {},
   "outputs": [],
   "source": [
    "from ibm_watson_machine_learning.metanames import GenTextParamsMetaNames as GenParams\n",
    "from ibm_watson_machine_learning.foundation_models.utils.enums import DecodingMethods\n",
    "parameters = {\n",
    "    GenParams.DECODING_METHOD: DecodingMethods.GREEDY,\n",
    "    GenParams.MIN_NEW_TOKENS: 1,\n",
    "    GenParams.MAX_NEW_TOKENS: 500,\n",
    "    GenParams.STOP_SEQUENCES: [\"<|endoftext|>\"]\n",
    "}"
   ]
  },
  {
   "cell_type": "markdown",
   "id": "2bf437b7",
   "metadata": {},
   "source": [
    "LangChain CustomLLM wrapper for watsonx model\n",
    "Initialize the WatsonxLLM class from Langchain with defined parameters and ibm/granite-13b-chat-v2"
   ]
  },
  {
   "cell_type": "code",
   "execution_count": 18,
   "id": "5473db9f",
   "metadata": {},
   "outputs": [],
   "source": [
    "from langchain.llms import WatsonxLLM\n",
    "watsonx_granite = WatsonxLLM(\n",
    "    model_id=model_id.value,\n",
    "    url=credentials.get(\"url\"),\n",
    "    apikey=credentials.get(\"apikey\"),\n",
    "    project_id=project_id,\n",
    "    params=parameters\n",
    ")"
   ]
  },
  {
   "cell_type": "markdown",
   "id": "dc815239",
   "metadata": {},
   "source": [
    "### Setup Remote Server\n",
    "Here we should define the variable `REMOTE_SERVER` just created [here](https://github.com/ruslanmv/Watsonx-Assistant-with-Milvus-as-Vector-Database/blob/master/README.md)"
   ]
  },
  {
   "cell_type": "code",
   "execution_count": 3,
   "id": "548c2d67",
   "metadata": {},
   "outputs": [
    {
     "name": "stdout",
     "output_type": "stream",
     "text": [
      "Document ID: 2\n",
      "Document Text: Hi there Acne has multifactorial etiology. Only acne soap does not improve if ypu have grade 2 or more grade acne. You need to have oral and topical medications. This before writing medicines i need to confirm your grade of acne. For mild grade topical clindamycin or retenoic acud derivative would suffice whereas for higher grade acne you need oral medicines aluke doxycycline azithromycin or isotretinoin. Acne vulgaris Cleansing face with antiacne face wash\n"
     ]
    }
   ],
   "source": [
    "from langchain.embeddings import SentenceTransformerEmbeddings\n",
    "from langchain.embeddings.base import Embeddings\n",
    "from langchain.vectorstores.milvus import Milvus\n",
    "from langchain.embeddings import HuggingFaceEmbeddings  # Not used in this example\n",
    "import pickle\n",
    "\n",
    "# Loading the pickle file\n",
    "with open(\"id_answer.pkl\", \"rb\") as file:\n",
    "    id_answer = pickle.load(file)\n",
    "# (Assuming you have the required SentenceTransformer model loaded)\n",
    "#embeddings = SentenceTransformerEmbeddings()  # Create SentenceTransformer embeddings instance\n",
    "\n",
    "COLLECTION_NAME='qa_medical'\n",
    "from dotenv import load_dotenv\n",
    "import os\n",
    "load_dotenv()\n",
    "host_milvus = os.environ.get(\"REMOTE_SERVER\", '127.0.0.1')\n",
    "from pymilvus import connections, FieldSchema, CollectionSchema, DataType, Collection, utility\n",
    "connections.connect(host=host_milvus, port='19530')\n",
    "\n",
    "from pymilvus import Collection, utility\n",
    "collection = Collection(COLLECTION_NAME)      \n",
    "collection.load(replica_number=1)\n",
    "utility.load_state(COLLECTION_NAME)\n",
    "utility.loading_progress(COLLECTION_NAME)\n",
    "\n",
    "from towhee import pipe, ops\n",
    "import numpy as np\n",
    "def convert_text_to_embedding(input_text):\n",
    "    # Define the pipeline for text embedding, ensuring float32 output\n",
    "    embedding_pipe = (\n",
    "        pipe.input('text')\n",
    "        .map('text', 'vec', ops.text_embedding.dpr(model_name=\"facebook/dpr-ctx_encoder-single-nq-base\"))\n",
    "        .map('vec', 'normalized_vec', lambda x: x / np.linalg.norm(x, axis=0))\n",
    "        .map('normalized_vec', 'float_vec', lambda x: np.array(x, dtype=np.float32))  # Explicitly convert to float32\n",
    "        .output('float_vec')\n",
    "    )\n",
    "    # Get the embedding for the input text\n",
    "    embedding_queue = embedding_pipe(input_text)\n",
    "    embedding = embedding_queue.get()\n",
    "    return embedding[0]  # Return the first (and only) embedding\n",
    "\n",
    "query = \"I have started to get lots of acne on my face, particularly on my forehead. Please help me\"\n",
    "\n",
    "query_embedding = convert_text_to_embedding(query)  # Get embedding for the query sentence\n",
    "\n",
    "def search_milvus_collection(collection, query_embedding, top_k=10):\n",
    "    search_params = {\"metric_type\": \"L2\", \"params\": {\"nprobe\": 10}}\n",
    "    results = collection.search(data=[query_embedding], anns_field=\"embedding\", param=search_params, limit=top_k)\n",
    "    return results\n",
    "# Search the collection\n",
    "search_results = search_milvus_collection(collection, query_embedding)\n",
    "\n",
    "def collect_retrieved(search_results, num_docs=10, sort_key=\"distance\", ascending=True, id_answer=None):\n",
    "  \"\"\"\n",
    "  Collects, sorts, and extracts text for retrieved documents.\n",
    "\n",
    "  Args:\n",
    "    search_results: The output of a Milvus search result.\n",
    "    num_docs: The maximum number of documents to collect (default: 10).\n",
    "    sort_key: The key to sort documents by (default: \"distance\").\n",
    "    ascending: Whether to sort in ascending order (default: True).\n",
    "    id_answer: A dictionary mapping document IDs to their text (optional).\n",
    "\n",
    "  Returns:\n",
    "    A list of dictionaries, each containing \"id\" and \"text\" keys for the retrieved documents.\n",
    "  \"\"\"\n",
    "  retrieved_data = [(result.id, result.distance) for result in search_results[0]]\n",
    "  sorted_data = sorted(retrieved_data, key=lambda x: x[1] if sort_key == \"distance\" else x[0], reverse=not ascending)\n",
    "\n",
    "  retrieved_docs = []\n",
    "  for item in sorted_data[:num_docs]:\n",
    "    doc_id = item[0]\n",
    "    doc_text = id_answer.get(doc_id, 'Answer not found')  # Retrieve text from the dictionary\n",
    "    retrieved_docs.append({\"id\": doc_id, \"text\": doc_text})\n",
    "\n",
    "  return retrieved_docs\n",
    "# Collect top 2 documents sorted by descending relevance\n",
    "docs = collect_retrieved(search_results, num_docs=1, id_answer=id_answer)\n",
    "docs[0]['text']\n",
    "\n",
    "for doc in docs:\n",
    "  print(f\"Document ID: {doc['id']}\")\n",
    "  print(f\"Document Text: {doc['text']}\")\n",
    "# Assuming you have initialized watsonx_granite as the LLM\n"
   ]
  },
  {
   "cell_type": "markdown",
   "id": "3f066382",
   "metadata": {},
   "source": [
    "Generate a retrieval-augmented response to a question\n",
    "Build the RetrievalQA (question answering chain) to automate the RAG task.\n"
   ]
  },
  {
   "cell_type": "code",
   "execution_count": 4,
   "id": "d44000a9",
   "metadata": {},
   "outputs": [
    {
     "name": "stdout",
     "output_type": "stream",
     "text": [
      "[Document(page_content='Hi there Acne has multifactorial etiology. Only acne soap does not improve if ypu have grade 2 or more grade acne. You need to have oral and topical medications. This before writing medicines i need to confirm your grade of acne. For mild grade topical clindamycin or retenoic acud derivative would suffice whereas for higher grade acne you need oral medicines aluke doxycycline azithromycin or isotretinoin. Acne vulgaris Cleansing face with antiacne face wash')]\n"
     ]
    }
   ],
   "source": [
    "#import langchain.chains as lc\n",
    "from langchain_core.retrievers import BaseRetriever\n",
    "from langchain_core.callbacks import CallbackManagerForRetrieverRun\n",
    "from langchain_core.documents import Document\n",
    "from pymilvus import Collection, utility\n",
    "from towhee import pipe, ops\n",
    "import numpy as np\n",
    "from towhee.datacollection import DataCollection\n",
    "from typing import List\n",
    "\n",
    "max_input_length = 500  # Maximum length allowed by the model\n",
    "\n",
    "def get_data(query):\n",
    "  query_embedding = convert_text_to_embedding(query)  # Get embedding for the query sentence\n",
    "  # Search the collection\n",
    "  search_results = search_milvus_collection(collection, query_embedding)\n",
    "   # Collect top 2 documents sorted by descending relevance\n",
    "  docs = collect_retrieved(search_results, num_docs=2, id_answer=id_answer)\n",
    "  return docs\n",
    "\n",
    "# Create the combined pipe for question encoding and answer retrieval\n",
    "combined_pipe = (\n",
    "    pipe.input('question')\n",
    "        .map('question', 'vec', lambda x: x[:max_input_length])  # Truncate the question if longer than 512 tokens\n",
    "        .map('vec', 'vec', ops.text_embedding.dpr(model_name='facebook/dpr-ctx_encoder-single-nq-base'))\n",
    "        .map('vec', 'vec', lambda x: x / np.linalg.norm(x, axis=0))\n",
    "        .map('vec', 'res', ops.ann_search.milvus_client(host=host_milvus, port='19530', collection_name=COLLECTION_NAME, limit=1))\n",
    "        .map('res', 'answer', lambda x: [id_answer[int(i[0])] for i in x])\n",
    "        .output('question', 'answer')\n",
    ")\n",
    "class CustomRetriever(BaseRetriever): \n",
    "    def _get_relevant_documents(\n",
    "        self, query: str, *, run_manager: CallbackManagerForRetrieverRun\n",
    "    ) -> List[Document]:\n",
    "        # Perform the encoding and retrieval for a specific question\n",
    "        ans = combined_pipe(query)\n",
    "        ans = DataCollection(ans)\n",
    "        answer=ans[0]['answer']\n",
    "        answer_string = ' '.join(answer)\n",
    "        return [Document(page_content=answer_string)]   \n",
    "\n",
    "query = \"I have started to get lots of acne on my face, particularly on my forehead what can I do\"\n",
    "docs=get_data(query)\n",
    "retriever = CustomRetriever(documents=docs)\n",
    "relevant_documents = retriever.get_relevant_documents(query)\n",
    "print(relevant_documents)    \n",
    "\n"
   ]
  },
  {
   "cell_type": "markdown",
   "id": "4c36bab6",
   "metadata": {},
   "source": [
    "# Clean New Retriever"
   ]
  },
  {
   "cell_type": "code",
   "execution_count": 39,
   "id": "67d0edfe",
   "metadata": {},
   "outputs": [
    {
     "name": "stdout",
     "output_type": "stream",
     "text": [
      "[Document(page_content='Hi there Acne has multifactorial etiology. Only acne soap does not improve if ypu have grade 2 or more grade acne. You need to have oral and topical medications. This before writing medicines i need to confirm your grade of acne. For mild grade topical clindamycin or retenoic acud derivative would suffice whereas for higher grade acne you need oral medicines aluke doxycycline azithromycin or isotretinoin. Acne vulgaris Cleansing face with antiacne face wash')]\n"
     ]
    }
   ],
   "source": [
    "class CustomRetriever:\n",
    "    def get_relevant_documents(\n",
    "        self, query: str, \n",
    "    ) -> List[Document]:\n",
    "        # Perform the encoding and retrieval for a specific question\n",
    "        ans = combined_pipe(query)\n",
    "        ans = DataCollection(ans)\n",
    "        answer = ans[0]['answer']\n",
    "        answer_string = ' '.join(answer)\n",
    "        return [Document(page_content=answer_string)]\n",
    "query = \"I have started to get lots of acne on my face, particularly on my forehead. What can I do?\"\n",
    "retriever = CustomRetriever()\n",
    "relevant_documents = retriever.get_relevant_documents(query)\n",
    "print(relevant_documents)"
   ]
  },
  {
   "cell_type": "code",
   "execution_count": 40,
   "id": "0d041c4e",
   "metadata": {},
   "outputs": [
    {
     "data": {
      "text/plain": [
       "[Document(page_content='Hello. I understand your concern and would first recommend performing an EEG (electroencephalography) and a brain MRI to exclude any possible brain lesions that may lead to seizures. As seizures are persistent, I would recommend starting antiepileptic drugs. In this regard, considering your age, and the fact that you are overweight, I would suggest starting low dose Levetiracetam or Carbamazepine. You should discuss with your doctor on the above tests and treatment options. I hope you will find this answer helpful. I remain at your disposal for any further questions whenever you need. MRI brain, and EEG.')]"
      ]
     },
     "execution_count": 40,
     "metadata": {},
     "output_type": "execute_result"
    }
   ],
   "source": [
    "# This will only documents related with the query\n",
    "query = \" I have headacke what can I do\"\n",
    "docs_search =retriever.get_relevant_documents(query)\n",
    "docs_search"
   ]
  },
  {
   "cell_type": "code",
   "execution_count": 41,
   "id": "a12203d6",
   "metadata": {},
   "outputs": [
    {
     "name": "stdout",
     "output_type": "stream",
     "text": [
      "Retrieved context:\n",
      "page_content='Hi there Acne has multifactorial etiology. Only acne soap does not improve if ypu have grade 2 or more grade acne. You need to have oral and topical medications. This before writing medicines i need to confirm your grade of acne. For mild grade topical clindamycin or retenoic acud derivative would suffice whereas for higher grade acne you need oral medicines aluke doxycycline azithromycin or isotretinoin. Acne vulgaris Cleansing face with antiacne face wash'\n",
      "Full prompt: Use the following pieces of context to answer the question at the end. \n",
      "If you don't know the answer, just say that you don't know, don't try to make up an answer. \n",
      "Use three sentences maximum and keep the answer as concise as possible. \n",
      "Always say \"thanks for asking!\" at the end of the answer. \n",
      "[Document(page_content='Hi there Acne has multifactorial etiology. Only acne soap does not improve if ypu have grade 2 or more grade acne. You need to have oral and topical medications. This before writing medicines i need to confirm your grade of acne. For mild grade topical clindamycin or retenoic acud derivative would suffice whereas for higher grade acne you need oral medicines aluke doxycycline azithromycin or isotretinoin. Acne vulgaris Cleansing face with antiacne face wash')]\n",
      "Question: I have started to get lots of acne on my face, particularly on my forehead what can I do\n",
      "Helpful Answer:\n"
     ]
    }
   ],
   "source": [
    "from langchain.chains import RetrievalQA\n",
    "from langchain.prompts import PromptTemplate\n",
    "from langchain.schema.runnable import RunnablePassthrough\n",
    "prompt = \"I have started to get lots of acne on my face, particularly on my forehead what can I do\"\n",
    "# Define the prompt template\n",
    "template = \"\"\"Use the following pieces of context to answer the question at the end. \n",
    "If you don't know the answer, just say that you don't know, don't try to make up an answer. \n",
    "Use three sentences maximum and keep the answer as concise as possible. \n",
    "Always say \"thanks for asking!\" at the end of the answer. \n",
    "{context}\n",
    "Question: {question}\n",
    "Helpful Answer:\"\"\"\n",
    "rag_prompt = PromptTemplate.from_template(template)\n",
    "# Get the retrieved context\n",
    "context = retriever.get_relevant_documents(prompt)\n",
    "print(\"Retrieved context:\")\n",
    "for doc in context:\n",
    "    print(doc)\n",
    "# Construct the full prompt\n",
    "full_prompt = rag_prompt.format(context=context, question=prompt)\n",
    "print(\"Full prompt:\", full_prompt)    \n"
   ]
  },
  {
   "cell_type": "code",
   "execution_count": 42,
   "id": "b2be29e8",
   "metadata": {},
   "outputs": [],
   "source": [
    "# Generate the response using the appropriate method\n",
    "response = watsonx_granite.generate([full_prompt])  # Use `generate` for multiple prompts\n"
   ]
  },
  {
   "cell_type": "code",
   "execution_count": 43,
   "id": "ecec8ae8",
   "metadata": {},
   "outputs": [
    {
     "name": "stdout",
     "output_type": "stream",
     "text": [
      "Solution: generations=[[Generation(text='\\nFor mild grade acne, you can use a topical clindamycin or retinoid derivative face wash. For higher grade acne, you will need oral medications such as aluke doxycycline, azithromycin, or isotretinoin. It is essential to consult a dermatologist to confirm the grade of your acne and recommend appropriate treatment.\\n\\nPlease note that acne has a multifactorial etiology, and only acne soap may not be sufficient for severe cases. Oral and topical medications are often required to manage acne effectively.\\n\\nThanks for asking!', generation_info={'finish_reason': 'eos_token'})]] llm_output={'token_usage': {'generated_token_count': 114, 'input_token_count': 214}, 'model_id': 'ibm/granite-13b-chat-v2'} run=[RunInfo(run_id=UUID('cd9beca3-1acc-4089-9f8b-ace76052cc5d'))]\n"
     ]
    }
   ],
   "source": [
    "# Print the full response\n",
    "print(\"Solution:\", response)"
   ]
  },
  {
   "cell_type": "markdown",
   "id": "8acd9c29",
   "metadata": {},
   "source": [
    "## Ask your question\n",
    "After preparing the documents, you can set up a chain to include them in a prompt. This will allow LLM to use the docs as a reference when preparing answers.\n",
    "Get questions from the previously loaded dataset."
   ]
  },
  {
   "cell_type": "markdown",
   "id": "579d9db3",
   "metadata": {},
   "source": [
    "#### Adapting to Langchain Custom Retriev"
   ]
  },
  {
   "cell_type": "code",
   "execution_count": 44,
   "id": "b4bb5f85",
   "metadata": {},
   "outputs": [],
   "source": [
    "from langchain.chains import RetrievalQA\n",
    "from langchain.prompts import PromptTemplate\n",
    "from langchain.schema.runnable import RunnablePassthrough\n",
    "from langchain_core.retrievers import BaseRetriever\n",
    "from langchain_core.callbacks import CallbackManagerForRetrieverRun\n",
    "\n",
    "class CustomRetrieverLang(BaseRetriever): \n",
    "    def get_relevant_documents(\n",
    "        self, query: str, *, run_manager: CallbackManagerForRetrieverRun\n",
    "    ) -> List[Document]:\n",
    "        # Perform the encoding and retrieval for a specific question\n",
    "        ans = combined_pipe(query)\n",
    "        ans = DataCollection(ans)\n",
    "        answer=ans[0]['answer']\n",
    "        answer_string = ' '.join(answer)\n",
    "        return [Document(page_content=answer_string)]   \n",
    "# Ensure correct VectorStoreRetriever usage\n",
    "retriever = CustomRetrieverLang()"
   ]
  },
  {
   "cell_type": "code",
   "execution_count": 45,
   "id": "e8e698e0",
   "metadata": {},
   "outputs": [],
   "source": [
    "# Define the prompt template\n",
    "template = \"\"\"Use the following pieces of context to answer the question at the end. \n",
    "If you don't know the answer, just say that you don't know, don't try to make up an answer. \n",
    "Use three sentences maximum and keep the answer as concise as possible. \n",
    "Always say \"thanks for asking!\" at the end of the answer. \n",
    "{context}\n",
    "Question: {question}\n",
    "Helpful Answer:\"\"\"\n",
    "rag_prompt = PromptTemplate.from_template(template)\n",
    "rag_chain = (\n",
    "    {\"context\": retriever, \"question\": RunnablePassthrough()}\n",
    "    | rag_prompt\n",
    "    | watsonx_granite\n",
    ")"
   ]
  },
  {
   "cell_type": "code",
   "execution_count": 46,
   "id": "9599ccd3",
   "metadata": {},
   "outputs": [],
   "source": [
    "prompt = \"I have started to get lots of acne on my face, particularly on my forehead what can I do\"\n",
    "# Get the retrieved context\n",
    "context = retriever.get_relevant_documents(prompt)\n",
    "print(\"Retrieved context:\")\n",
    "for doc in context:\n",
    "    print(doc)\n",
    "# Construct the full prompt\n",
    "full_prompt = rag_prompt.format(context=context, question=prompt)\n",
    "print(\"Full prompt:\", full_prompt)\n",
    "\n",
    "print(rag_chain.invoke(prompt))  "
   ]
  },
  {
   "cell_type": "markdown",
   "id": "1186056b",
   "metadata": {},
   "source": [
    "### Simple prompt"
   ]
  },
  {
   "cell_type": "code",
   "execution_count": 54,
   "id": "aacece74",
   "metadata": {},
   "outputs": [
    {
     "name": "stdout",
     "output_type": "stream",
     "text": [
      " No, you should not use Pantoprazole with Cutein. The document states that if you take both of these medications together, the iron in Cutein will not get absorbed. This can lead to increased acid in the stomach and indigestion. For acne treatment, it is recommended to use medications that do not interact with iron, such as isotretinoin or adapalene. Consult your dermatologist for more information.\n"
     ]
    }
   ],
   "source": [
    "prompt=\"I have acne. Can I use Pantoprazole with Cutein?\"\n",
    "print(rag_chain.invoke(prompt))"
   ]
  },
  {
   "cell_type": "markdown",
   "id": "9f59446a",
   "metadata": {},
   "source": [
    "## Detailed Prompts"
   ]
  },
  {
   "cell_type": "code",
   "execution_count": 55,
   "id": "1e04e034",
   "metadata": {},
   "outputs": [
    {
     "name": "stdout",
     "output_type": "stream",
     "text": [
      "Retrieved context:\n",
      "page_content='Hi. Cutein tablet contains Iron as one of the ingredients, along with some other vitamins. The iron tablets can give increased acid in the stomach and indigestion. But, if you take both Cutein and Pantoprazole tablets together, the iron will not get absorbed. Therefore, first take Cutein tablet on empty stomach in the morning, and then 30 minutes later take Pantoprazole.'\n",
      "Full prompt: Use the following pieces of context to answer the question at the end. \n",
      "If you don't know the answer, just say that you don't know, don't try to make up an answer. \n",
      "Use three sentences maximum and keep the answer as concise as possible. \n",
      "Always say \"thanks for asking!\" at the end of the answer. \n",
      "[Document(page_content='Hi. Cutein tablet contains Iron as one of the ingredients, along with some other vitamins. The iron tablets can give increased acid in the stomach and indigestion. But, if you take both Cutein and Pantoprazole tablets together, the iron will not get absorbed. Therefore, first take Cutein tablet on empty stomach in the morning, and then 30 minutes later take Pantoprazole.')]\n",
      "Question: I have acne. Can I use Pantoprazole with Cutein?\n",
      "Helpful Answer:\n",
      "Solution: generations=[[Generation(text=' No, you should not use Pantoprazole with Cutein. The document states that if you take both of these medications together, the iron in Cutein will not get absorbed. This can lead to increased acid in the stomach and indigestion. For acne treatment, it is recommended to use medications that do not interact with iron, such as isotretinoin or adapalene. Consult your dermatologist for more information.', generation_info={'finish_reason': 'eos_token'})]] llm_output={'token_usage': {'generated_token_count': 91, 'input_token_count': 191}, 'model_id': 'ibm/granite-13b-chat-v2'} run=[RunInfo(run_id=UUID('2538d2c8-7b84-44eb-a2f6-8eeb013da3c8'))]\n"
     ]
    }
   ],
   "source": [
    "prompt=\"I have acne. Can I use Pantoprazole with Cutein?\"\n",
    "# Get the retrieved context\n",
    "context = retriever.get_relevant_documents(prompt)\n",
    "print(\"Retrieved context:\")\n",
    "for doc in context:\n",
    "    print(doc)\n",
    "# Construct the full prompt\n",
    "full_prompt = rag_prompt.format(context=context, question=prompt)\n",
    "print(\"Full prompt:\", full_prompt)  \n",
    "# Generate the response using the appropriate method\n",
    "response = watsonx_granite.generate([full_prompt])  # Use `generate` for multiple prompts\n",
    "# Print the full response\n",
    "print(\"Solution:\", response)\n"
   ]
  },
  {
   "cell_type": "markdown",
   "id": "c9c6223e",
   "metadata": {},
   "source": []
  },
  {
   "cell_type": "markdown",
   "id": "b975f557",
   "metadata": {},
   "source": [
    "## Release a Showcase"
   ]
  },
  {
   "cell_type": "markdown",
   "id": "fba0d8ad",
   "metadata": {},
   "source": [
    "We've done an excellent job on the core functionality of our question answering engine. Now it's time to build a showcase with interface. [Gradio](https://gradio.app/) is a great tool for building demos. With Gradio, we simply need to wrap the data processing pipeline via a `chat` function:"
   ]
  },
  {
   "cell_type": "code",
   "execution_count": 56,
   "id": "abd371a1",
   "metadata": {},
   "outputs": [],
   "source": [
    "import towhee\n",
    "def chat(message, history):\n",
    "    history = history or []\n",
    "    response = rag_chain.invoke(message)\n",
    "    history.append((message, response))\n",
    "    return history, history"
   ]
  },
  {
   "cell_type": "code",
   "execution_count": 58,
   "id": "8a88c2a9",
   "metadata": {},
   "outputs": [
    {
     "data": {
      "text/plain": [
       "([('I have acne. Can I use Pantoprazole with Cutein?',\n",
       "   ' No, you should not use Pantoprazole with Cutein. The document states that if you take both of these medications together, the iron in Cutein will not get absorbed. This can lead to increased acid in the stomach and indigestion. For acne treatment, it is recommended to use medications that do not interact with iron, such as isotretinoin or adapalene. Consult your dermatologist for more information.')],\n",
       " [('I have acne. Can I use Pantoprazole with Cutein?',\n",
       "   ' No, you should not use Pantoprazole with Cutein. The document states that if you take both of these medications together, the iron in Cutein will not get absorbed. This can lead to increased acid in the stomach and indigestion. For acne treatment, it is recommended to use medications that do not interact with iron, such as isotretinoin or adapalene. Consult your dermatologist for more information.')])"
      ]
     },
     "execution_count": 58,
     "metadata": {},
     "output_type": "execute_result"
    }
   ],
   "source": [
    "chat('I have acne. Can I use Pantoprazole with Cutein?',[])"
   ]
  },
  {
   "cell_type": "code",
   "execution_count": 60,
   "id": "3a2f5092",
   "metadata": {},
   "outputs": [
    {
     "name": "stdout",
     "output_type": "stream",
     "text": [
      "Running on local URL:  http://127.0.0.1:7860\n",
      "\n",
      "To create a public link, set `share=True` in `launch()`.\n"
     ]
    },
    {
     "data": {
      "text/html": [
       "<div><iframe src=\"http://127.0.0.1:7860/\" width=\"100%\" height=\"500\" allow=\"autoplay; camera; microphone; clipboard-read; clipboard-write;\" frameborder=\"0\" allowfullscreen></iframe></div>"
      ],
      "text/plain": [
       "<IPython.core.display.HTML object>"
      ]
     },
     "metadata": {},
     "output_type": "display_data"
    },
    {
     "data": {
      "text/plain": []
     },
     "execution_count": 60,
     "metadata": {},
     "output_type": "execute_result"
    }
   ],
   "source": [
    "import gradio\n",
    "collection.load()\n",
    "chatbot = gradio.Chatbot()\n",
    "interface = gradio.Interface(\n",
    "    chat,\n",
    "    [\"text\", \"state\"],\n",
    "    [chatbot, \"state\"],\n",
    "    allow_flagging=\"never\",\n",
    ")\n",
    "interface.launch(inline=True, share=False)\n"
   ]
  }
 ],
 "metadata": {
  "kernelspec": {
   "display_name": ".venv",
   "language": "python",
   "name": "python3"
  },
  "language_info": {
   "codemirror_mode": {
    "name": "ipython",
    "version": 3
   },
   "file_extension": ".py",
   "mimetype": "text/x-python",
   "name": "python",
   "nbconvert_exporter": "python",
   "pygments_lexer": "ipython3",
   "version": "3.10.12"
  }
 },
 "nbformat": 4,
 "nbformat_minor": 5
}
