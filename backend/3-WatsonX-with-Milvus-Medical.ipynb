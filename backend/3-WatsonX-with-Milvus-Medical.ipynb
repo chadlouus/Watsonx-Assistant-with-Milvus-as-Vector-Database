{
 "cells": [
  {
   "cell_type": "markdown",
   "id": "cc029f17-95b7-4050-b650-b07a0d9e8e8f",
   "metadata": {},
   "source": [
    "# WatsonX.ai with Milvus and LangChain"
   ]
  },
  {
   "cell_type": "markdown",
   "id": "588ffbe7",
   "metadata": {},
   "source": [
    "This guide demonstrates how to build an Watsonx.ai LLM-driven question-answering application with Milvus and LangChain"
   ]
  },
  {
   "cell_type": "markdown",
   "id": "1882efd7",
   "metadata": {},
   "source": [
    "## Set up the environment\n",
    "Before you use the sample code in this notebook, you must perform the following setup tasks:\n",
    "\n",
    "Create a Watson [Machine Learning (WML)](https://console.ng.bluemix.net/catalog/services/ibm-watson-machine-learning/) Service instance (a free plan is offered and information about how to create the instance can be found [here](https://dataplatform.cloud.ibm.com/docs/content/wsj/analyze-data/ml-service-instance.html?context=analytics))."
   ]
  },
  {
   "cell_type": "markdown",
   "id": "d1657c0d",
   "metadata": {},
   "source": [
    "### Install and import dependecies"
   ]
  },
  {
   "cell_type": "code",
   "execution_count": 1,
   "id": "aae39e13",
   "metadata": {},
   "outputs": [],
   "source": [
    "from IPython.display import clear_output\n",
    "!pip install pymilvus\n",
    "!pip install \"langchain==0.0.345\" \n",
    "!pip install wget \n",
    "!pip install sentence-transformers \n",
    "!pip install chromadb==0.3.22 \n",
    "!pip install \"ibm-watson-machine-learning>=1.0.335\" \n",
    "!pip install \"pydantic>=1.4.0,<2\" \n",
    "!pip install bs4\n",
    "!pip install ipywidgets\n",
    "!pip install towhee towhee.models \n",
    "!pip install gradio \"pydantic>=1.4.0,<2\" datasets\n",
    "clear_output()\n"
   ]
  },
  {
   "cell_type": "markdown",
   "id": "0e8f1c23-5a74-4c35-84f1-f5706674b3c7",
   "metadata": {},
   "source": [
    "### Setup Remote Server\n",
    "Here we should define the variable `REMOTE_SERVER` just created [here](https://github.com/ruslanmv/Watsonx-Assistant-with-Milvus-as-Vector-Database/blob/master/README.md)"
   ]
  },
  {
   "cell_type": "code",
   "execution_count": 2,
   "id": "0657238e-cb2d-49ff-ae5f-7202b2795b39",
   "metadata": {},
   "outputs": [],
   "source": [
    "import os\n",
    "from dotenv import load_dotenv\n",
    "load_dotenv()\n",
    "COLLECTION_NAME = 'qa_medical'\n",
    "DIMENSION = 768\n",
    "MILVUS_PORT = \"19530\"\n",
    "REMOTE_SERVER = os.environ.get(\"REMOTE_SERVER\", \"localhost\")"
   ]
  },
  {
   "cell_type": "markdown",
   "id": "1c13751c",
   "metadata": {},
   "source": [
    "### Connect to a Milvus server"
   ]
  },
  {
   "cell_type": "code",
   "execution_count": 3,
   "id": "3b3fe958",
   "metadata": {},
   "outputs": [],
   "source": [
    "from pymilvus import connections, FieldSchema, CollectionSchema, DataType, Collection, utility\n",
    "conn = connections.connect(host=REMOTE_SERVER, port=19530)"
   ]
  },
  {
   "cell_type": "markdown",
   "id": "c04656b5",
   "metadata": {},
   "source": [
    "### Create database"
   ]
  },
  {
   "cell_type": "code",
   "execution_count": 4,
   "id": "745dd41b",
   "metadata": {},
   "outputs": [],
   "source": [
    "from pymilvus import connections, db\n",
    "db.drop_database(\"medical\")\n",
    "database = db.create_database(\"medical\")"
   ]
  },
  {
   "cell_type": "markdown",
   "id": "02aa20a6",
   "metadata": {},
   "source": [
    " List databases"
   ]
  },
  {
   "cell_type": "code",
   "execution_count": 5,
   "id": "e0f95118",
   "metadata": {},
   "outputs": [
    {
     "data": {
      "text/plain": [
       "['default', 'medical']"
      ]
     },
     "execution_count": 5,
     "metadata": {},
     "output_type": "execute_result"
    }
   ],
   "source": [
    "db.list_database()"
   ]
  },
  {
   "cell_type": "markdown",
   "id": "be322cc9",
   "metadata": {},
   "source": [
    "If the collection already exists, drop it."
   ]
  },
  {
   "cell_type": "code",
   "execution_count": 6,
   "id": "dd76635d",
   "metadata": {},
   "outputs": [],
   "source": [
    "from pymilvus import utility\n",
    "if utility.has_collection(COLLECTION_NAME):\n",
    "    utility.drop_collection(COLLECTION_NAME)"
   ]
  },
  {
   "cell_type": "markdown",
   "id": "45d164ff",
   "metadata": {},
   "source": [
    "List all collections"
   ]
  },
  {
   "cell_type": "code",
   "execution_count": 7,
   "id": "a58c93e2",
   "metadata": {},
   "outputs": [
    {
     "data": {
      "text/plain": [
       "[]"
      ]
     },
     "execution_count": 7,
     "metadata": {},
     "output_type": "execute_result"
    }
   ],
   "source": [
    "from pymilvus import utility\n",
    "utility.list_collections()"
   ]
  },
  {
   "cell_type": "markdown",
   "id": "9a25befd",
   "metadata": {},
   "source": [
    "### Prepare the Data"
   ]
  },
  {
   "cell_type": "code",
   "execution_count": 8,
   "id": "3042f30c",
   "metadata": {},
   "outputs": [],
   "source": [
    "from datasets import load_dataset\n",
    "from IPython.display import clear_output\n",
    "dataset = load_dataset(\"ruslanmv/ai-medical-chatbot\")\n",
    "clear_output()"
   ]
  },
  {
   "cell_type": "markdown",
   "id": "2524a974",
   "metadata": {},
   "source": [
    "**dataset**: a file containing question and the answer.\n",
    "\n",
    "Let's take a quick look:"
   ]
  },
  {
   "cell_type": "code",
   "execution_count": 9,
   "id": "0c73a328",
   "metadata": {},
   "outputs": [
    {
     "name": "stdout",
     "output_type": "stream",
     "text": [
      "['Description', 'Patient', 'Doctor']\n"
     ]
    }
   ],
   "source": [
    "column_names = dataset[\"train\"].column_names\n",
    "print(column_names)"
   ]
  },
  {
   "cell_type": "code",
   "execution_count": 10,
   "id": "49d37e71",
   "metadata": {},
   "outputs": [
    {
     "name": "stdout",
     "output_type": "stream",
     "text": [
      "{'Description': 'Q. What does abutment of the nerve root mean?', 'Patient': 'Hi doctor,I am just wondering what is abutting and abutment of the nerve root means in a back issue. Please explain. What treatment is required for\\xa0annular bulging and tear?', 'Doctor': 'Hi. I have gone through your query with diligence and would like you to know that I am here to help you. For further information consult a neurologist online -->'}\n"
     ]
    }
   ],
   "source": [
    "train_data = dataset[\"train\"]\n",
    "for i in range(1):\n",
    "    print(train_data[i])"
   ]
  },
  {
   "cell_type": "markdown",
   "id": "d17ad3a9",
   "metadata": {},
   "source": [
    "For this demo let us choose the first 1000 dialogues"
   ]
  },
  {
   "cell_type": "code",
   "execution_count": 11,
   "id": "76612cf7",
   "metadata": {},
   "outputs": [],
   "source": [
    "import pandas as pd\n",
    "df = pd.DataFrame(train_data[:1000])"
   ]
  },
  {
   "cell_type": "code",
   "execution_count": 12,
   "id": "812064de",
   "metadata": {},
   "outputs": [
    {
     "data": {
      "text/html": [
       "<div>\n",
       "<style scoped>\n",
       "    .dataframe tbody tr th:only-of-type {\n",
       "        vertical-align: middle;\n",
       "    }\n",
       "\n",
       "    .dataframe tbody tr th {\n",
       "        vertical-align: top;\n",
       "    }\n",
       "\n",
       "    .dataframe thead th {\n",
       "        text-align: right;\n",
       "    }\n",
       "</style>\n",
       "<table border=\"1\" class=\"dataframe\">\n",
       "  <thead>\n",
       "    <tr style=\"text-align: right;\">\n",
       "      <th></th>\n",
       "      <th>Description</th>\n",
       "      <th>Patient</th>\n",
       "      <th>Doctor</th>\n",
       "    </tr>\n",
       "  </thead>\n",
       "  <tbody>\n",
       "    <tr>\n",
       "      <th>0</th>\n",
       "      <td>Q. What does abutment of the nerve root mean?</td>\n",
       "      <td>Hi doctor,I am just wondering what is abutting...</td>\n",
       "      <td>Hi. I have gone through your query with dilige...</td>\n",
       "    </tr>\n",
       "    <tr>\n",
       "      <th>1</th>\n",
       "      <td>Q. What should I do to reduce my weight gained...</td>\n",
       "      <td>Hi doctor, I am a 22-year-old female who was d...</td>\n",
       "      <td>Hi. You have really done well with the hypothy...</td>\n",
       "    </tr>\n",
       "    <tr>\n",
       "      <th>2</th>\n",
       "      <td>Q. I have started to get lots of acne on my fa...</td>\n",
       "      <td>Hi doctor! I used to have clear skin but since...</td>\n",
       "      <td>Hi there Acne has multifactorial etiology. Onl...</td>\n",
       "    </tr>\n",
       "    <tr>\n",
       "      <th>3</th>\n",
       "      <td>Q. Why do I have uncomfortable feeling between...</td>\n",
       "      <td>Hello doctor,I am having an uncomfortable feel...</td>\n",
       "      <td>Hello. The popping and discomfort what you fel...</td>\n",
       "    </tr>\n",
       "    <tr>\n",
       "      <th>4</th>\n",
       "      <td>Q. My symptoms after intercourse threatns me e...</td>\n",
       "      <td>Hello doctor,Before two years had sex with a c...</td>\n",
       "      <td>Hello. The HIV test uses a finger prick blood ...</td>\n",
       "    </tr>\n",
       "  </tbody>\n",
       "</table>\n",
       "</div>"
      ],
      "text/plain": [
       "                                         Description  \\\n",
       "0      Q. What does abutment of the nerve root mean?   \n",
       "1  Q. What should I do to reduce my weight gained...   \n",
       "2  Q. I have started to get lots of acne on my fa...   \n",
       "3  Q. Why do I have uncomfortable feeling between...   \n",
       "4  Q. My symptoms after intercourse threatns me e...   \n",
       "\n",
       "                                             Patient  \\\n",
       "0  Hi doctor,I am just wondering what is abutting...   \n",
       "1  Hi doctor, I am a 22-year-old female who was d...   \n",
       "2  Hi doctor! I used to have clear skin but since...   \n",
       "3  Hello doctor,I am having an uncomfortable feel...   \n",
       "4  Hello doctor,Before two years had sex with a c...   \n",
       "\n",
       "                                              Doctor  \n",
       "0  Hi. I have gone through your query with dilige...  \n",
       "1  Hi. You have really done well with the hypothy...  \n",
       "2  Hi there Acne has multifactorial etiology. Onl...  \n",
       "3  Hello. The popping and discomfort what you fel...  \n",
       "4  Hello. The HIV test uses a finger prick blood ...  "
      ]
     },
     "execution_count": 12,
     "metadata": {},
     "output_type": "execute_result"
    }
   ],
   "source": [
    "df.head()"
   ]
  },
  {
   "cell_type": "markdown",
   "id": "bdef9801",
   "metadata": {},
   "source": [
    "For the development of the model, let just consider the patient and doctor"
   ]
  },
  {
   "cell_type": "code",
   "execution_count": 13,
   "id": "c160d5ee",
   "metadata": {},
   "outputs": [],
   "source": [
    "#df = df[[\"Patient\", \"Doctor\"]].rename(columns={\"Patient\": \"question\", \"Doctor\": \"answer\"})\n",
    "df = df[[\"Description\", \"Doctor\"]].rename(columns={\"Description\": \"question\", \"Doctor\": \"answer\"})"
   ]
  },
  {
   "cell_type": "code",
   "execution_count": 14,
   "id": "2441f70e",
   "metadata": {},
   "outputs": [],
   "source": [
    "# Add the 'ID' column as the first column\n",
    "df.insert(0, 'id', df.index)\n",
    "# Reset the index and drop the previous index column\n",
    "df = df.reset_index(drop=True)"
   ]
  },
  {
   "cell_type": "code",
   "execution_count": 15,
   "id": "2f9676fb",
   "metadata": {},
   "outputs": [],
   "source": [
    "import re\n",
    "# Clean the 'question' and 'answer' columns\n",
    "df['question'] = df['question'].apply(lambda x: re.sub(r'\\s+', ' ', x.strip()))\n",
    "df['answer'] = df['answer'].apply(lambda x: re.sub(r'\\s+', ' ', x.strip()))\n",
    "df['question'] = df['question'].str.replace('^Q.', '', regex=True)\n",
    "# Assuming your DataFrame is named df\n",
    "max_length = 500  # Due to our enbeeding model does not allow long strings\n",
    "df['question'] = df['question'].str.slice(0, max_length)"
   ]
  },
  {
   "cell_type": "code",
   "execution_count": 16,
   "id": "9ac89b98",
   "metadata": {},
   "outputs": [
    {
     "data": {
      "text/html": [
       "<div>\n",
       "<style scoped>\n",
       "    .dataframe tbody tr th:only-of-type {\n",
       "        vertical-align: middle;\n",
       "    }\n",
       "\n",
       "    .dataframe tbody tr th {\n",
       "        vertical-align: top;\n",
       "    }\n",
       "\n",
       "    .dataframe thead th {\n",
       "        text-align: right;\n",
       "    }\n",
       "</style>\n",
       "<table border=\"1\" class=\"dataframe\">\n",
       "  <thead>\n",
       "    <tr style=\"text-align: right;\">\n",
       "      <th></th>\n",
       "      <th>id</th>\n",
       "      <th>question</th>\n",
       "      <th>answer</th>\n",
       "    </tr>\n",
       "  </thead>\n",
       "  <tbody>\n",
       "    <tr>\n",
       "      <th>0</th>\n",
       "      <td>0</td>\n",
       "      <td>What does abutment of the nerve root mean?</td>\n",
       "      <td>Hi. I have gone through your query with dilige...</td>\n",
       "    </tr>\n",
       "    <tr>\n",
       "      <th>1</th>\n",
       "      <td>1</td>\n",
       "      <td>What should I do to reduce my weight gained d...</td>\n",
       "      <td>Hi. You have really done well with the hypothy...</td>\n",
       "    </tr>\n",
       "    <tr>\n",
       "      <th>2</th>\n",
       "      <td>2</td>\n",
       "      <td>I have started to get lots of acne on my face...</td>\n",
       "      <td>Hi there Acne has multifactorial etiology. Onl...</td>\n",
       "    </tr>\n",
       "    <tr>\n",
       "      <th>3</th>\n",
       "      <td>3</td>\n",
       "      <td>Why do I have uncomfortable feeling between t...</td>\n",
       "      <td>Hello. The popping and discomfort what you fel...</td>\n",
       "    </tr>\n",
       "    <tr>\n",
       "      <th>4</th>\n",
       "      <td>4</td>\n",
       "      <td>My symptoms after intercourse threatns me eve...</td>\n",
       "      <td>Hello. The HIV test uses a finger prick blood ...</td>\n",
       "    </tr>\n",
       "  </tbody>\n",
       "</table>\n",
       "</div>"
      ],
      "text/plain": [
       "   id                                           question  \\\n",
       "0   0         What does abutment of the nerve root mean?   \n",
       "1   1   What should I do to reduce my weight gained d...   \n",
       "2   2   I have started to get lots of acne on my face...   \n",
       "3   3   Why do I have uncomfortable feeling between t...   \n",
       "4   4   My symptoms after intercourse threatns me eve...   \n",
       "\n",
       "                                              answer  \n",
       "0  Hi. I have gone through your query with dilige...  \n",
       "1  Hi. You have really done well with the hypothy...  \n",
       "2  Hi there Acne has multifactorial etiology. Onl...  \n",
       "3  Hello. The popping and discomfort what you fel...  \n",
       "4  Hello. The HIV test uses a finger prick blood ...  "
      ]
     },
     "execution_count": 16,
     "metadata": {},
     "output_type": "execute_result"
    }
   ],
   "source": [
    "df.head()"
   ]
  },
  {
   "cell_type": "markdown",
   "id": "6ff5b94b",
   "metadata": {},
   "source": [
    "To use the dataset to get answers, let's first define the dictionary:\n",
    "\n",
    "- `id_answer`: a dictionary of id and corresponding answer"
   ]
  },
  {
   "cell_type": "code",
   "execution_count": 17,
   "id": "f953128a",
   "metadata": {},
   "outputs": [],
   "source": [
    "id_answer = df.set_index('id')['answer'].to_dict()\n"
   ]
  },
  {
   "cell_type": "markdown",
   "id": "8cfb2d4f",
   "metadata": {},
   "source": [
    "### Create Milvus Collection"
   ]
  },
  {
   "cell_type": "markdown",
   "id": "14d33b3f",
   "metadata": {},
   "source": [
    "Before getting started, please make sure that you have started a [Milvus service](https://milvus.io/docs/install_standalone-docker.md). This notebook uses [milvus 2.2.10](https://milvus.io/docs/v2.2.x/install_standalone-docker.md) and [pymilvus 2.3.6](https://milvus.io/docs/release_notes.md#2360)."
   ]
  },
  {
   "cell_type": "code",
   "execution_count": 18,
   "id": "de3302e3",
   "metadata": {},
   "outputs": [],
   "source": [
    "!python -m pip install -q pymilvus==2.3.6"
   ]
  },
  {
   "cell_type": "markdown",
   "id": "ff634e41",
   "metadata": {},
   "source": [
    "Next to define the function `create_milvus_collection` to create collection in Milvus that uses the [L2 distance metric](https://milvus.io/docs/metric.md#Euclidean-distance-L2) and an [IVF_FLAT index](https://milvus.io/docs/index.md#IVF_FLAT)."
   ]
  },
  {
   "cell_type": "markdown",
   "id": "69288f41",
   "metadata": {},
   "source": [
    "### Setup Remote Server\n",
    "Here we should define the variable `REMOTE_SERVER` just created [here](https://github.com/ruslanmv/Watsonx-Assistant-with-Milvus-as-Vector-Database/blob/master/README.md)"
   ]
  },
  {
   "cell_type": "code",
   "execution_count": 19,
   "id": "49d06235",
   "metadata": {},
   "outputs": [],
   "source": [
    "from dotenv import load_dotenv\n",
    "import os\n",
    "load_dotenv()\n",
    "host_milvus = os.environ.get(\"REMOTE_SERVER\", '127.0.0.1')\n",
    "from pymilvus import connections, FieldSchema, CollectionSchema, DataType, Collection, utility\n",
    "connections.connect(host=host_milvus, port='19530')"
   ]
  },
  {
   "cell_type": "code",
   "execution_count": 20,
   "id": "87705192",
   "metadata": {},
   "outputs": [],
   "source": [
    "collection_name=COLLECTION_NAME\n",
    "def create_milvus_collection(collection_name, dim):\n",
    "    if utility.has_collection(collection_name):\n",
    "        utility.drop_collection(collection_name)\n",
    "\n",
    "    fields = [\n",
    "    FieldSchema(name='id', dtype=DataType.INT64, descrition='ids', max_length=500, is_primary=True, auto_id=False),\n",
    "    FieldSchema(name='embedding', dtype=DataType.FLOAT_VECTOR, descrition='embedding vectors', dim=dim)\n",
    "    ]\n",
    "    schema = CollectionSchema(fields=fields, description='reverse image search')\n",
    "    collection = Collection(name=collection_name, schema=schema)\n",
    "\n",
    "    # create IVF_FLAT index for collection.\n",
    "    index_params = {\n",
    "        'metric_type':'L2',\n",
    "        'index_type':\"IVF_FLAT\",\n",
    "        'params':{\"nlist\":2048}\n",
    "    }\n",
    "    collection.create_index(field_name=\"embedding\", index_params=index_params)\n",
    "    return collection\n",
    "collection = create_milvus_collection(collection_name, 768)"
   ]
  },
  {
   "cell_type": "markdown",
   "id": "ba411582",
   "metadata": {},
   "source": [
    "### Load question embedding into Milvus"
   ]
  },
  {
   "cell_type": "markdown",
   "id": "5a9ac649",
   "metadata": {},
   "source": [
    "We first generate embedding from question text with [dpr](https://towhee.io/text-embedding/dpr) operator and insert the embedding into Milvus. Towhee provides a [method-chaining style API](https://towhee.readthedocs.io/en/main/index.html) so that users can assemble a data processing pipeline with operators."
   ]
  },
  {
   "cell_type": "code",
   "execution_count": 21,
   "id": "7f4b0c9c",
   "metadata": {},
   "outputs": [],
   "source": [
    "from IPython.display import clear_output"
   ]
  },
  {
   "cell_type": "code",
   "execution_count": 22,
   "id": "9c6be294",
   "metadata": {},
   "outputs": [
    {
     "name": "stdout",
     "output_type": "stream",
     "text": [
      "CPU times: user 859 ms, sys: 906 ms, total: 1.77 s\n",
      "Wall time: 7.7 s\n"
     ]
    }
   ],
   "source": [
    "%%time\n",
    "from towhee import pipe, ops\n",
    "import numpy as np\n",
    "from towhee.datacollection import DataCollection\n",
    "from IPython.display import clear_output\n",
    "max_input_length = 500  # Maximum length allowed by the model\n",
    "insert_pipe = (\n",
    "    pipe.input('id', 'question', 'answer')\n",
    "        .map('question', 'vec', lambda x: x[:max_input_length])  # Truncate the question if longer than 500 tokens\n",
    "        .map('vec', 'vec', ops.text_embedding.dpr(model_name='facebook/dpr-ctx_encoder-single-nq-base'))\n",
    "        .map('vec', 'vec', lambda x: x / np.linalg.norm(x, axis=0))\n",
    "        .map(('id', 'vec'), 'insert_status', ops.ann_insert.milvus_client(host=host_milvus, port='19530', collection_name=collection_name))\n",
    "        .output()\n",
    ")\n",
    "clear_output()  "
   ]
  },
  {
   "cell_type": "code",
   "execution_count": 23,
   "id": "df945362",
   "metadata": {},
   "outputs": [
    {
     "name": "stdout",
     "output_type": "stream",
     "text": [
      "CPU times: user 12.4 s, sys: 656 ms, total: 13 s\n",
      "Wall time: 2min 48s\n"
     ]
    }
   ],
   "source": [
    "%%time\n",
    "# Assuming you have a DataFrame named df\n",
    "# Iterate over each row in the DataFrame\n",
    "for index, row in df.iterrows():\n",
    "    question = row['question']\n",
    "    # Truncate the question string if it exceeds the expected size for the model\n",
    "    if len(question) > 500:\n",
    "        row['question'] = question[:500]  # Truncate the question string if it exceeds 500 characters\n",
    "    insert_pipe(*row)\n",
    "# Clear the output\n",
    "clear_output()    "
   ]
  },
  {
   "cell_type": "code",
   "execution_count": 24,
   "id": "bb1e0235",
   "metadata": {},
   "outputs": [
    {
     "name": "stdout",
     "output_type": "stream",
     "text": [
      "There is  a Collection: qa_medical\n"
     ]
    },
    {
     "data": {
      "text/plain": [
       "['qa_medical']"
      ]
     },
     "execution_count": 24,
     "metadata": {},
     "output_type": "execute_result"
    }
   ],
   "source": [
    "from pymilvus import utility\n",
    "if utility.has_collection(COLLECTION_NAME):\n",
    "    print(\"There is  a Collection: \" + COLLECTION_NAME )\n",
    "    \n",
    "from pymilvus import utility\n",
    "utility.list_collections()"
   ]
  },
  {
   "cell_type": "markdown",
   "id": "eaa40ddd",
   "metadata": {},
   "source": [
    "## Load a Collection\n",
    "Milvus allows users to load a collection as multiple replicas to utilize the CPU and memory resources of extra query nodes. This feature boosts the overall QPS and throughput without extra hardware. Before loading a collection, ensure that you have already indexed it."
   ]
  },
  {
   "cell_type": "code",
   "execution_count": 25,
   "id": "224b0f30",
   "metadata": {},
   "outputs": [
    {
     "data": {
      "text/plain": [
       "{'loading_progress': '100%'}"
      ]
     },
     "execution_count": 25,
     "metadata": {},
     "output_type": "execute_result"
    }
   ],
   "source": [
    "from pymilvus import Collection, utility\n",
    "collection = Collection(COLLECTION_NAME)      \n",
    "collection.load(replica_number=1)\n",
    "utility.load_state(COLLECTION_NAME)\n",
    "utility.loading_progress(COLLECTION_NAME)\n"
   ]
  },
  {
   "cell_type": "markdown",
   "id": "47033bdc",
   "metadata": {},
   "source": [
    "## Prepare search parameters\n",
    "Prepare the parameters that suit your search scenario. The following example defines that the search will calculate the distance with Euclidean distance, and retrieve vectors from ten closest clusters built by the IVF_FLAT index."
   ]
  },
  {
   "cell_type": "code",
   "execution_count": 26,
   "id": "242d51b8",
   "metadata": {},
   "outputs": [],
   "source": [
    "search_params = {\n",
    "    \"metric_type\": \"L2\", \n",
    "    \"offset\": 0, \n",
    "    \"ignore_growing\": False, \n",
    "    \"params\": {\"nprobe\": 10}\n",
    "}"
   ]
  },
  {
   "cell_type": "markdown",
   "id": "491bbedb",
   "metadata": {},
   "source": [
    "Milvus supports setting consistency level specifically for a search. The example in this topic sets the consistency level as Strong. You can also set the consistency level as Bounded, Session or Eventually. "
   ]
  },
  {
   "cell_type": "code",
   "execution_count": 27,
   "id": "f535fb0c",
   "metadata": {},
   "outputs": [],
   "source": [
    "from towhee import pipe, ops\n",
    "import numpy as np\n",
    "def convert_text_to_embedding(input_text):\n",
    "    # Define the pipeline for text embedding, ensuring float32 output\n",
    "    embedding_pipe = (\n",
    "        pipe.input('text')\n",
    "        .map('text', 'vec', ops.text_embedding.dpr(model_name=\"facebook/dpr-ctx_encoder-single-nq-base\"))\n",
    "        .map('vec', 'normalized_vec', lambda x: x / np.linalg.norm(x, axis=0))\n",
    "        .map('normalized_vec', 'float_vec', lambda x: np.array(x, dtype=np.float32))  # Explicitly convert to float32\n",
    "        .output('float_vec')\n",
    "    )\n",
    "    # Get the embedding for the input text\n",
    "    embedding_queue = embedding_pipe(input_text)\n",
    "    embedding = embedding_queue.get()\n",
    "    return embedding[0]  # Return the first (and only) embedding\n",
    "\n",
    "def search_milvus_collection(collection, query_embedding, top_k=10):\n",
    "    search_params = {\"metric_type\": \"L2\", \"params\": {\"nprobe\": 10}}\n",
    "    results = collection.search(data=[query_embedding], anns_field=\"embedding\", param=search_params, limit=top_k)\n",
    "    return results\n",
    "# Example usage\n",
    "input_text = \"I have started to get lots of acne on my face, particularly on my forehead. Please help me\"\n",
    "query_embedding = convert_text_to_embedding(input_text)\n",
    "\n",
    "# Search the collection\n",
    "search_results = search_milvus_collection(collection, query_embedding)\n"
   ]
  },
  {
   "cell_type": "code",
   "execution_count": 28,
   "id": "a5f8db1b",
   "metadata": {},
   "outputs": [
    {
     "data": {
      "text/plain": [
       "[2, 835, 156, 180, 381, 333, 298, 448, 663, 834]"
      ]
     },
     "execution_count": 28,
     "metadata": {},
     "output_type": "execute_result"
    }
   ],
   "source": [
    "# get the IDs of all returned hits\n",
    "search_results[0].ids"
   ]
  },
  {
   "cell_type": "code",
   "execution_count": 29,
   "id": "0a1d1645",
   "metadata": {},
   "outputs": [
    {
     "data": {
      "text/plain": [
       "[0.02460573986172676,\n",
       " 0.31883323192596436,\n",
       " 0.35052570700645447,\n",
       " 0.383177787065506,\n",
       " 0.3857323229312897,\n",
       " 0.38954097032546997,\n",
       " 0.3918834328651428,\n",
       " 0.39505255222320557,\n",
       " 0.4189419746398926,\n",
       " 0.4191533029079437]"
      ]
     },
     "execution_count": 29,
     "metadata": {},
     "output_type": "execute_result"
    }
   ],
   "source": [
    "# get the distances to the query vector from all returned hits\n",
    "search_results[0].distances"
   ]
  },
  {
   "cell_type": "code",
   "execution_count": 30,
   "id": "0574673e",
   "metadata": {},
   "outputs": [],
   "source": [
    "id_answer = df.set_index('id')['answer'].to_dict()"
   ]
  },
  {
   "cell_type": "code",
   "execution_count": 31,
   "id": "a2a0bd8e",
   "metadata": {},
   "outputs": [
    {
     "name": "stdout",
     "output_type": "stream",
     "text": [
      "Result 1:\n",
      "  ID: 2\n",
      "  Distance: 0.0246\n",
      "  Answer: Hi there Acne has multifactorial etiology. Only acne soap does not improve if ypu have grade 2 or more grade acne. You need to have oral and topical medications. This before writing medicines i need to confirm your grade of acne. For mild grade topical clindamycin or retenoic acud derivative would suffice whereas for higher grade acne you need oral medicines aluke doxycycline azithromycin or isotretinoin. Acne vulgaris Cleansing face with antiacne face wash\n",
      "\n"
     ]
    }
   ],
   "source": [
    "def print_search_results_with_answers(results, id_answer, top_n=5):\n",
    "    # Sort the results by distance (ascending order)\n",
    "    sorted_results = sorted(results[0], key=lambda x: x.distance)\n",
    "    \n",
    "    # Limit the number of displayed results\n",
    "    displayed_results = sorted_results[:top_n]\n",
    "    \n",
    "    for idx, result in enumerate(displayed_results, start=1):\n",
    "        print(f\"Result {idx}:\")\n",
    "        print(f\"  ID: {result.id}\")\n",
    "        print(f\"  Distance: {result.distance:.4f}\")\n",
    "        answer_text = id_answer.get(result.id, 'Answer not found')\n",
    "        print(f\"  Answer: {answer_text}\")\n",
    "        print()\n",
    "\n",
    "# Print the top 5 search results sorted by distance\n",
    "print_search_results_with_answers(search_results, id_answer, top_n=1)"
   ]
  },
  {
   "cell_type": "markdown",
   "id": "93413230",
   "metadata": {},
   "source": [
    "Now that embedding for question dataset have been inserted into Milvus, we can ask question with Milvus and Towhee. Again, we use Towhee to load the input question, compute a embedding, and use it as a query in Milvus. Because Milvus only outputs IDs and distance values, we provide the `id_answers` dictionary to get the answers based on IDs and display."
   ]
  },
  {
   "cell_type": "code",
   "execution_count": 32,
   "id": "25933003",
   "metadata": {},
   "outputs": [],
   "source": [
    "from towhee import pipe, ops\n",
    "import numpy as np\n",
    "from towhee.datacollection import DataCollection\n",
    "from IPython.display import clear_output\n",
    "# Define the maximum input length for the question\n",
    "max_input_length = 512"
   ]
  },
  {
   "cell_type": "code",
   "execution_count": 33,
   "id": "7b9c007f",
   "metadata": {},
   "outputs": [
    {
     "name": "stdout",
     "output_type": "stream",
     "text": [
      "CPU times: user 62.5 ms, sys: 141 ms, total: 203 ms\n",
      "Wall time: 1.67 s\n"
     ]
    }
   ],
   "source": [
    "%%time\n",
    "# Load the collection\n",
    "collection.load()\n",
    "# Create the combined pipe for question encoding and answer retrieval\n",
    "combined_pipe = (\n",
    "    pipe.input('question')\n",
    "        .map('question', 'vec', lambda x: x[:max_input_length])  # Truncate the question if longer than 512 tokens\n",
    "        .map('vec', 'vec', ops.text_embedding.dpr(model_name='facebook/dpr-ctx_encoder-single-nq-base'))\n",
    "        .map('vec', 'vec', lambda x: x / np.linalg.norm(x, axis=0))\n",
    "        .map('vec', 'res', ops.ann_search.milvus_client(host=host_milvus, port='19530', collection_name=collection_name, limit=1))\n",
    "        .map('res', 'answer', lambda x: [id_answer[int(i[0])] for i in x])\n",
    "        .output('question', 'answer')\n",
    ")\n",
    " "
   ]
  },
  {
   "cell_type": "code",
   "execution_count": 34,
   "id": "d82c97a7",
   "metadata": {},
   "outputs": [
    {
     "name": "stdout",
     "output_type": "stream",
     "text": [
      "CPU times: user 0 ns, sys: 0 ns, total: 0 ns\n",
      "Wall time: 416 ms\n"
     ]
    }
   ],
   "source": [
    "%%time\n",
    "# Perform the encoding and retrieval for a specific question\n",
    "ans = combined_pipe('I have started to get lots of acne on my face, particularly on my forehead. Please help me')\n",
    "ans = DataCollection(ans)"
   ]
  },
  {
   "cell_type": "code",
   "execution_count": 35,
   "id": "39494c5e",
   "metadata": {},
   "outputs": [
    {
     "data": {
      "text/html": [
       "<table style=\"border-collapse: collapse;\"><tr><th style=\"text-align: center; font-size: 130%; border: none;\">question</th> <th style=\"text-align: center; font-size: 130%; border: none;\">answer</th></tr>\n",
       "<tr><td style=\"text-align: center; vertical-align: top; border-right: solid 1px #D3D3D3; border-left: solid 1px #D3D3D3; \">I have started to get lots of acne on my face, particularly on my forehead. Please help me</td><td style=\"text-align: center; vertical-align: top; border-right: solid 1px #D3D3D3; border-left: solid 1px #D3D3D3; \"><br>Hi there Acne has multifactorial etiology. Only acne soap does not improve if ypu have grade 2 or more grade acne. You need to h...</br></td></tr></table>"
      ],
      "text/plain": [
       "<IPython.core.display.HTML object>"
      ]
     },
     "metadata": {},
     "output_type": "display_data"
    }
   ],
   "source": [
    "ans.show()"
   ]
  },
  {
   "cell_type": "code",
   "execution_count": 36,
   "id": "f4c4a0fc",
   "metadata": {},
   "outputs": [
    {
     "data": {
      "text/plain": [
       "['Hi there Acne has multifactorial etiology. Only acne soap does not improve if ypu have grade 2 or more grade acne. You need to have oral and topical medications. This before writing medicines i need to confirm your grade of acne. For mild grade topical clindamycin or retenoic acud derivative would suffice whereas for higher grade acne you need oral medicines aluke doxycycline azithromycin or isotretinoin. Acne vulgaris Cleansing face with antiacne face wash']"
      ]
     },
     "execution_count": 36,
     "metadata": {},
     "output_type": "execute_result"
    }
   ],
   "source": [
    "ans[0]['answer']"
   ]
  },
  {
   "cell_type": "markdown",
   "id": "db4b0b16",
   "metadata": {},
   "source": [
    "## LangChain with Milvus Collection"
   ]
  },
  {
   "cell_type": "code",
   "execution_count": 37,
   "id": "efa46b58",
   "metadata": {},
   "outputs": [],
   "source": [
    "from langchain.embeddings import SentenceTransformerEmbeddings\n",
    "from langchain.embeddings.base import Embeddings\n",
    "from langchain.vectorstores.milvus import Milvus\n",
    "from langchain.embeddings import HuggingFaceEmbeddings  # Not used in this example\n",
    "# (Assuming you have the required SentenceTransformer model loaded)\n",
    "embeddings = SentenceTransformerEmbeddings()  # Create SentenceTransformer embeddings instance\n"
   ]
  },
  {
   "cell_type": "code",
   "execution_count": 38,
   "id": "a6c18452",
   "metadata": {},
   "outputs": [],
   "source": [
    "COLLECTION_NAME='qa_medical'\n",
    "from dotenv import load_dotenv\n",
    "import os\n",
    "load_dotenv()\n",
    "host_milvus = os.environ.get(\"REMOTE_SERVER\", '127.0.0.1')\n",
    "from pymilvus import connections, FieldSchema, CollectionSchema, DataType, Collection, utility\n",
    "connections.connect(host=host_milvus, port='19530')"
   ]
  },
  {
   "cell_type": "code",
   "execution_count": 39,
   "id": "4b47a23e",
   "metadata": {},
   "outputs": [
    {
     "data": {
      "text/plain": [
       "{'loading_progress': '100%'}"
      ]
     },
     "execution_count": 39,
     "metadata": {},
     "output_type": "execute_result"
    }
   ],
   "source": [
    "from pymilvus import Collection, utility\n",
    "collection = Collection(COLLECTION_NAME)      \n",
    "collection.load(replica_number=1)\n",
    "utility.load_state(COLLECTION_NAME)\n",
    "utility.loading_progress(COLLECTION_NAME)\n"
   ]
  },
  {
   "cell_type": "code",
   "execution_count": 40,
   "id": "6f85c7ee",
   "metadata": {},
   "outputs": [],
   "source": [
    "from towhee import pipe, ops\n",
    "import numpy as np\n",
    "def convert_text_to_embedding(input_text):\n",
    "    # Define the pipeline for text embedding, ensuring float32 output\n",
    "    embedding_pipe = (\n",
    "        pipe.input('text')\n",
    "        .map('text', 'vec', ops.text_embedding.dpr(model_name=\"facebook/dpr-ctx_encoder-single-nq-base\"))\n",
    "        .map('vec', 'normalized_vec', lambda x: x / np.linalg.norm(x, axis=0))\n",
    "        .map('normalized_vec', 'float_vec', lambda x: np.array(x, dtype=np.float32))  # Explicitly convert to float32\n",
    "        .output('float_vec')\n",
    "    )\n",
    "    # Get the embedding for the input text\n",
    "    embedding_queue = embedding_pipe(input_text)\n",
    "    embedding = embedding_queue.get()\n",
    "    return embedding[0]  # Return the first (and only) embedding"
   ]
  },
  {
   "cell_type": "code",
   "execution_count": 41,
   "id": "446ecde6",
   "metadata": {},
   "outputs": [],
   "source": [
    "query = \"I have started to get lots of acne on my face, particularly on my forehead. Please help me\"\n",
    "query_embedding = convert_text_to_embedding(query)  # Get embedding for the query sentence"
   ]
  },
  {
   "cell_type": "code",
   "execution_count": 42,
   "id": "151cf9a4",
   "metadata": {},
   "outputs": [],
   "source": [
    "def search_milvus_collection(collection, query_embedding, top_k=10):\n",
    "    search_params = {\"metric_type\": \"L2\", \"params\": {\"nprobe\": 10}}\n",
    "    results = collection.search(data=[query_embedding], anns_field=\"embedding\", param=search_params, limit=top_k)\n",
    "    return results"
   ]
  },
  {
   "cell_type": "code",
   "execution_count": 43,
   "id": "fb75fa4c",
   "metadata": {},
   "outputs": [],
   "source": [
    "# Search the collection\n",
    "search_results = search_milvus_collection(collection, query_embedding)"
   ]
  },
  {
   "cell_type": "code",
   "execution_count": 44,
   "id": "f6dfda11",
   "metadata": {},
   "outputs": [],
   "source": [
    "\n",
    "docs = [result.ids[0] for result in search_results]  # Get IDs of matching documents (assuming single field)\n"
   ]
  },
  {
   "cell_type": "code",
   "execution_count": 45,
   "id": "1cf36af2",
   "metadata": {},
   "outputs": [
    {
     "name": "stdout",
     "output_type": "stream",
     "text": [
      "Result 1:\n",
      "  ID: 2\n",
      "  Distance: 0.0246\n",
      "  Answer: Hi there Acne has multifactorial etiology. Only acne soap does not improve if ypu have grade 2 or more grade acne. You need to have oral and topical medications. This before writing medicines i need to confirm your grade of acne. For mild grade topical clindamycin or retenoic acud derivative would suffice whereas for higher grade acne you need oral medicines aluke doxycycline azithromycin or isotretinoin. Acne vulgaris Cleansing face with antiacne face wash\n"
     ]
    }
   ],
   "source": [
    "def print_search_results_with_answers(results, id_answer, top_n=5):\n",
    "    # Sort the results by distance (ascending order)\n",
    "    sorted_results = sorted(results[0], key=lambda x: x.distance)\n",
    "    # Limit the number of displayed results\n",
    "    displayed_results = sorted_results[:top_n]\n",
    "    for idx, result in enumerate(displayed_results, start=1):\n",
    "        print(f\"Result {idx}:\")\n",
    "        print(f\"  ID: {result.id}\")\n",
    "        print(f\"  Distance: {result.distance:.4f}\")\n",
    "        answer_text = id_answer.get(result.id, 'Answer not found')\n",
    "        print(f\"  Answer: {answer_text}\")\n",
    "# Print the top 5 search results sorted by distance\n",
    "print_search_results_with_answers(search_results, id_answer, top_n=1)"
   ]
  },
  {
   "cell_type": "code",
   "execution_count": 46,
   "id": "78b327da",
   "metadata": {},
   "outputs": [],
   "source": [
    "def collect_retrieved_docs(search_results, num_docs=10, sort_key=\"distance\", ascending=True):\n",
    "  \"\"\"\n",
    "  Collects and sorts retrieved documents from the search results.\n",
    "\n",
    "  Args:\n",
    "    search_results: The output of a Milvus search result, typically a list of objects.\n",
    "    num_docs: The maximum number of documents to collect (default: 10).\n",
    "    sort_key: The key to sort documents by (default: \"distance\"). Can be \"id\", \"distance\", or custom field names.\n",
    "    ascending: Whether to sort in ascending order (default: True).\n",
    "\n",
    "  Returns:\n",
    "    A list of retrieved documents (either as objects or their IDs).\n",
    "  \"\"\"\n",
    "  # Extract document IDs and distance values\n",
    "  retrieved_data = [(result.id, result.distance) for result in search_results[0]]\n",
    "\n",
    "  # Sort by specified key and order\n",
    "  sorted_data = sorted(retrieved_data, key=lambda x: x[1] if sort_key == \"distance\" else x[0], reverse=not ascending)\n",
    "\n",
    "  # Select and return the desired number of documents/IDs\n",
    "  if num_docs > 0:\n",
    "    return [item[0] for item in sorted_data[:num_docs]]\n",
    "  else:\n",
    "    return [item for item in sorted_data]\n"
   ]
  },
  {
   "cell_type": "code",
   "execution_count": 47,
   "id": "21da395b",
   "metadata": {},
   "outputs": [],
   "source": [
    "docs=collect_retrieved_docs(search_results, num_docs=2)"
   ]
  },
  {
   "cell_type": "code",
   "execution_count": 48,
   "id": "74573ab3",
   "metadata": {},
   "outputs": [
    {
     "data": {
      "text/plain": [
       "[2, 835]"
      ]
     },
     "execution_count": 48,
     "metadata": {},
     "output_type": "execute_result"
    }
   ],
   "source": [
    "docs"
   ]
  },
  {
   "cell_type": "code",
   "execution_count": 49,
   "id": "39444bcb",
   "metadata": {},
   "outputs": [],
   "source": [
    "def collect_retrieved_docs(search_results, num_docs=10, sort_key=\"distance\", ascending=True, id_answer=None):\n",
    "  \"\"\"\n",
    "  Collects, sorts, and extracts text for retrieved documents.\n",
    "\n",
    "  Args:\n",
    "    search_results: The output of a Milvus search result.\n",
    "    num_docs: The maximum number of documents to collect (default: 10).\n",
    "    sort_key: The key to sort documents by (default: \"distance\").\n",
    "    ascending: Whether to sort in ascending order (default: True).\n",
    "    id_answer: A dictionary mapping document IDs to their text (optional).\n",
    "\n",
    "  Returns:\n",
    "    A list of dictionaries, each containing \"id\" and \"text\" keys for the retrieved documents.\n",
    "  \"\"\"\n",
    "  retrieved_data = [(result.id, result.distance) for result in search_results[0]]\n",
    "  sorted_data = sorted(retrieved_data, key=lambda x: x[1] if sort_key == \"distance\" else x[0], reverse=not ascending)\n",
    "\n",
    "  retrieved_docs = []\n",
    "  for item in sorted_data[:num_docs]:\n",
    "    doc_id = item[0]\n",
    "    doc_text = id_answer.get(doc_id, 'Answer not found')  # Retrieve text from the dictionary\n",
    "    retrieved_docs.append({\"id\": doc_id, \"text\": doc_text})\n",
    "\n",
    "  return retrieved_docs"
   ]
  },
  {
   "cell_type": "code",
   "execution_count": 50,
   "id": "074124da",
   "metadata": {},
   "outputs": [],
   "source": [
    "docs = collect_retrieved_docs(search_results, num_docs=2, id_answer=id_answer)"
   ]
  },
  {
   "cell_type": "code",
   "execution_count": 51,
   "id": "f09fa773",
   "metadata": {},
   "outputs": [
    {
     "data": {
      "text/plain": [
       "'Hi there Acne has multifactorial etiology. Only acne soap does not improve if ypu have grade 2 or more grade acne. You need to have oral and topical medications. This before writing medicines i need to confirm your grade of acne. For mild grade topical clindamycin or retenoic acud derivative would suffice whereas for higher grade acne you need oral medicines aluke doxycycline azithromycin or isotretinoin. Acne vulgaris Cleansing face with antiacne face wash'"
      ]
     },
     "execution_count": 51,
     "metadata": {},
     "output_type": "execute_result"
    }
   ],
   "source": [
    "docs[0]['text']"
   ]
  },
  {
   "cell_type": "code",
   "execution_count": 52,
   "id": "85943b70",
   "metadata": {},
   "outputs": [
    {
     "name": "stdout",
     "output_type": "stream",
     "text": [
      "Document ID: 2\n",
      "Document Text: Hi there Acne has multifactorial etiology. Only acne soap does not improve if ypu have grade 2 or more grade acne. You need to have oral and topical medications. This before writing medicines i need to confirm your grade of acne. For mild grade topical clindamycin or retenoic acud derivative would suffice whereas for higher grade acne you need oral medicines aluke doxycycline azithromycin or isotretinoin. Acne vulgaris Cleansing face with antiacne face wash\n",
      "Document ID: 835\n",
      "Document Text: Hi. Well, ideally if you have bilateral inguinal hernia, or inguinaĺ hernia on one side and hydrocele on the other, the surgery should be done for one first before the other, not simultaneously so that when you are fully recovered of one, then the other can be planned and done. Pain can be due to entrapment of a nerve like ileoinguinal or ileohypogastric nerves which run with the spermatic cords or it could be also present if there is improper repair with subsequent breakdown of the repair and subsequent herniation of the bowel content into the inguinal ring or it can be from infection of the operation site. 12 weeks is quite a long time for surgical pains to have disappeared. You will need to do an abdominal pelvic ultrasound scan to see if there is any reccurence or failure of the surgery or if there is entrapment of visceral content.\n"
     ]
    }
   ],
   "source": [
    "for doc in docs:\n",
    "  print(f\"Document ID: {doc['id']}\")\n",
    "  print(f\"Document Text: {doc['text']}\")"
   ]
  },
  {
   "cell_type": "markdown",
   "id": "1b06366f",
   "metadata": {},
   "source": [
    "## watsonx API connection\n",
    "This cell defines the credentials required to work with watsonx API for Foundation Model inferencing.\n",
    "Action: Provide the IBM Cloud user API key. For details, see [documentation](https://cloud.ibm.com/docs/account?topic=account-userapikey&interface=ui).\n",
    "\n",
    "Defining the project id\n",
    "The API requires project id that provides the context for the call. We will obtain the id from the project in which this notebook runs. Otherwise, please provide the project id.\n",
    "\n",
    "Hint: You can find the project_id as follows. Open the prompt lab in watsonx.ai. At the very top of the UI, there will be Projects / <project name> /. Click on the <project name> link. Then get the project_id from Project's Manage tab (Project -> Manage -> General -> Details).\n"
   ]
  },
  {
   "cell_type": "code",
   "execution_count": 53,
   "id": "96fc98d3",
   "metadata": {},
   "outputs": [],
   "source": [
    "from dotenv import load_dotenv\n",
    "import os\n",
    "load_dotenv()\n",
    "try:\n",
    "    API_KEY = os.environ.get(\"API_KEY\")\n",
    "    project_id =os.environ.get(\"PROJECT_ID\")\n",
    "except KeyError:\n",
    "    API_KEY: input(\"Please enter your WML api key (hit enter): \")\n",
    "    project_id  = input(\"Please  project_id (hit enter): \")"
   ]
  },
  {
   "cell_type": "code",
   "execution_count": 54,
   "id": "5526be1e",
   "metadata": {},
   "outputs": [],
   "source": [
    "credentials = {\n",
    "    \"url\": \"https://us-south.ml.cloud.ibm.com\",\n",
    "    \"apikey\": API_KEY  \n",
    "}"
   ]
  },
  {
   "cell_type": "markdown",
   "id": "8822ae30",
   "metadata": {},
   "source": [
    "## Foundation Models on watsonx\n",
    "### Defining model\n",
    "You need to specify model_id that will be used for inferencing:\n",
    "\n"
   ]
  },
  {
   "cell_type": "code",
   "execution_count": 55,
   "id": "c13acb27",
   "metadata": {},
   "outputs": [],
   "source": [
    "from ibm_watson_machine_learning.foundation_models.utils.enums import ModelTypes\n",
    "model_id = ModelTypes.GRANITE_13B_CHAT_V2"
   ]
  },
  {
   "cell_type": "markdown",
   "id": "4a932cde",
   "metadata": {},
   "source": [
    "## Defining the model parameters\n",
    "We need to provide a set of model parameters that will influence the result:"
   ]
  },
  {
   "cell_type": "code",
   "execution_count": 56,
   "id": "3b3e9f48",
   "metadata": {},
   "outputs": [],
   "source": [
    "from ibm_watson_machine_learning.metanames import GenTextParamsMetaNames as GenParams\n",
    "from ibm_watson_machine_learning.foundation_models.utils.enums import DecodingMethods\n",
    "parameters = {\n",
    "    GenParams.DECODING_METHOD: DecodingMethods.GREEDY,\n",
    "    GenParams.MIN_NEW_TOKENS: 1,\n",
    "    GenParams.MAX_NEW_TOKENS: 100,\n",
    "    GenParams.STOP_SEQUENCES: [\"<|endoftext|>\"]\n",
    "}"
   ]
  },
  {
   "cell_type": "markdown",
   "id": "2bf437b7",
   "metadata": {},
   "source": [
    "LangChain CustomLLM wrapper for watsonx model\n",
    "Initialize the WatsonxLLM class from Langchain with defined parameters and ibm/granite-13b-chat-v2"
   ]
  },
  {
   "cell_type": "code",
   "execution_count": 57,
   "id": "5473db9f",
   "metadata": {},
   "outputs": [],
   "source": [
    "from langchain.llms import WatsonxLLM\n",
    "watsonx_granite = WatsonxLLM(\n",
    "    model_id=model_id.value,\n",
    "    url=credentials.get(\"url\"),\n",
    "    apikey=credentials.get(\"apikey\"),\n",
    "    project_id=project_id,\n",
    "    params=parameters\n",
    ")"
   ]
  },
  {
   "cell_type": "markdown",
   "id": "ebd0cf15",
   "metadata": {},
   "source": [
    "Generate a retrieval-augmented response to a question\n",
    "Build the RetrievalQA (question answering chain) to automate the RAG task.\n"
   ]
  },
  {
   "cell_type": "code",
   "execution_count": 58,
   "id": "3daf0cdf",
   "metadata": {},
   "outputs": [],
   "source": [
    "def collect_retrieved(search_results, num_docs=10, sort_key=\"distance\", ascending=True, id_answer=None):\n",
    "  \"\"\"\n",
    "  Collects, sorts, and extracts text for retrieved documents.\n",
    "\n",
    "  Args:\n",
    "    search_results: The output of a Milvus search result.\n",
    "    num_docs: The maximum number of documents to collect (default: 10).\n",
    "    sort_key: The key to sort documents by (default: \"distance\").\n",
    "    ascending: Whether to sort in ascending order (default: True).\n",
    "    id_answer: A dictionary mapping document IDs to their text (optional).\n",
    "\n",
    "  Returns:\n",
    "    A list of dictionaries, each containing \"id\" and \"text\" keys for the retrieved documents.\n",
    "  \"\"\"\n",
    "  retrieved_data = [(result.id, result.distance) for result in search_results[0]]\n",
    "  sorted_data = sorted(retrieved_data, key=lambda x: x[1] if sort_key == \"distance\" else x[0], reverse=not ascending)\n",
    "\n",
    "  retrieved_docs = []\n",
    "  for item in sorted_data[:num_docs]:\n",
    "    doc_id = item[0]\n",
    "    doc_text = id_answer.get(doc_id, 'Answer not found')  # Retrieve text from the dictionary\n",
    "    retrieved_docs.append({\"id\": doc_id, \"text\": doc_text})\n",
    "\n",
    "  return retrieved_docs\n",
    "\n",
    "import langchain.chains as lc\n",
    "# Assuming you have initialized watsonx_granite as the LLM\n",
    "query = \"I have started to get lots of acne on my face, particularly on my forehead what can I do\"\n",
    "# Collect top 2 documents sorted by descending relevance\n",
    "docs = collect_retrieved(search_results, num_docs=2, id_answer=id_answer)"
   ]
  },
  {
   "cell_type": "code",
   "execution_count": 86,
   "id": "6efd1598",
   "metadata": {},
   "outputs": [
    {
     "data": {
      "text/plain": [
       "[{'id': 2,\n",
       "  'text': 'Hi there Acne has multifactorial etiology. Only acne soap does not improve if ypu have grade 2 or more grade acne. You need to have oral and topical medications. This before writing medicines i need to confirm your grade of acne. For mild grade topical clindamycin or retenoic acud derivative would suffice whereas for higher grade acne you need oral medicines aluke doxycycline azithromycin or isotretinoin. Acne vulgaris Cleansing face with antiacne face wash'},\n",
       " {'id': 835,\n",
       "  'text': 'Hi. Well, ideally if you have bilateral inguinal hernia, or inguinaĺ hernia on one side and hydrocele on the other, the surgery should be done for one first before the other, not simultaneously so that when you are fully recovered of one, then the other can be planned and done. Pain can be due to entrapment of a nerve like ileoinguinal or ileohypogastric nerves which run with the spermatic cords or it could be also present if there is improper repair with subsequent breakdown of the repair and subsequent herniation of the bowel content into the inguinal ring or it can be from infection of the operation site. 12 weeks is quite a long time for surgical pains to have disappeared. You will need to do an abdominal pelvic ultrasound scan to see if there is any reccurence or failure of the surgery or if there is entrapment of visceral content.'}]"
      ]
     },
     "execution_count": 86,
     "metadata": {},
     "output_type": "execute_result"
    }
   ],
   "source": [
    "docs"
   ]
  },
  {
   "cell_type": "code",
   "execution_count": null,
   "id": "fa97491e",
   "metadata": {},
   "outputs": [],
   "source": []
  },
  {
   "cell_type": "code",
   "execution_count": 78,
   "id": "494ebb73",
   "metadata": {},
   "outputs": [
    {
     "data": {
      "text/plain": [
       "'Hi there Acne has multifactorial etiology. Only acne soap does not improve if ypu have grade 2 or more grade acne. You need to have oral and topical medications. This before writing medicines i need to confirm your grade of acne. For mild grade topical clindamycin or retenoic acud derivative would suffice whereas for higher grade acne you need oral medicines aluke doxycycline azithromycin or isotretinoin. Acne vulgaris Cleansing face with antiacne face wash'"
      ]
     },
     "execution_count": 78,
     "metadata": {},
     "output_type": "execute_result"
    }
   ],
   "source": []
  },
  {
   "cell_type": "code",
   "execution_count": 79,
   "id": "d44000a9",
   "metadata": {},
   "outputs": [
    {
     "name": "stdout",
     "output_type": "stream",
     "text": [
      "[Document(page_content='Hi there Acne has multifactorial etiology. Only acne soap does not improve if ypu have grade 2 or more grade acne. You need to have oral and topical medications. This before writing medicines i need to confirm your grade of acne. For mild grade topical clindamycin or retenoic acud derivative would suffice whereas for higher grade acne you need oral medicines aluke doxycycline azithromycin or isotretinoin. Acne vulgaris Cleansing face with antiacne face wash')]\n"
     ]
    }
   ],
   "source": [
    "from langchain_core.retrievers import BaseRetriever\n",
    "from langchain_core.callbacks import CallbackManagerForRetrieverRun\n",
    "from langchain_core.documents import Document\n",
    "from typing import List\n",
    "# Load the collection\n",
    "collection.load()\n",
    "# Create the combined pipe for question encoding and answer retrieval\n",
    "combined_pipe = (\n",
    "    pipe.input('question')\n",
    "        .map('question', 'vec', lambda x: x[:max_input_length])  # Truncate the question if longer than 512 tokens\n",
    "        .map('vec', 'vec', ops.text_embedding.dpr(model_name='facebook/dpr-ctx_encoder-single-nq-base'))\n",
    "        .map('vec', 'vec', lambda x: x / np.linalg.norm(x, axis=0))\n",
    "        .map('vec', 'res', ops.ann_search.milvus_client(host=host_milvus, port='19530', collection_name=collection_name, limit=1))\n",
    "        .map('res', 'answer', lambda x: [id_answer[int(i[0])] for i in x])\n",
    "        .output('question', 'answer')\n",
    ")\n",
    "class CustomRetriever(BaseRetriever): \n",
    "    def _get_relevant_documents(\n",
    "        self, query: str, *, run_manager: CallbackManagerForRetrieverRun\n",
    "    ) -> List[Document]:\n",
    "        # Perform the encoding and retrieval for a specific question\n",
    "        ans = combined_pipe(query)\n",
    "        ans = DataCollection(ans)\n",
    "        answer=ans[0]['answer']\n",
    "        answer_string = ' '.join(answer)\n",
    "        return [Document(page_content=answer_string)]\n",
    "retriever = CustomRetriever(documents=docs)\n",
    "query = \"I have started to get lots of acne on my face, particularly on my forehead what can I do\"\n",
    "relevant_documents = retriever.get_relevant_documents(query)\n",
    "print(relevant_documents)    "
   ]
  },
  {
   "cell_type": "code",
   "execution_count": 80,
   "id": "47729077",
   "metadata": {},
   "outputs": [],
   "source": [
    "# This will only documents related with the query\n",
    "query = \"I have started to get lots of acne on my face, particularly on my forehead what can I do\"\n",
    "docs_search =retriever.get_relevant_documents(query)"
   ]
  },
  {
   "cell_type": "code",
   "execution_count": 81,
   "id": "81090554",
   "metadata": {},
   "outputs": [
    {
     "data": {
      "text/plain": [
       "[Document(page_content='Hi there Acne has multifactorial etiology. Only acne soap does not improve if ypu have grade 2 or more grade acne. You need to have oral and topical medications. This before writing medicines i need to confirm your grade of acne. For mild grade topical clindamycin or retenoic acud derivative would suffice whereas for higher grade acne you need oral medicines aluke doxycycline azithromycin or isotretinoin. Acne vulgaris Cleansing face with antiacne face wash')]"
      ]
     },
     "execution_count": 81,
     "metadata": {},
     "output_type": "execute_result"
    }
   ],
   "source": [
    "docs_search"
   ]
  },
  {
   "cell_type": "code",
   "execution_count": 83,
   "id": "3e91d752",
   "metadata": {},
   "outputs": [
    {
     "data": {
      "text/plain": [
       "CustomRetriever()"
      ]
     },
     "execution_count": 83,
     "metadata": {},
     "output_type": "execute_result"
    }
   ],
   "source": [
    "retriever"
   ]
  },
  {
   "cell_type": "code",
   "execution_count": 84,
   "id": "cc3d1d7f",
   "metadata": {},
   "outputs": [],
   "source": [
    "from langchain.chains import RetrievalQA\n",
    "qa = RetrievalQA.from_chain_type(llm=watsonx_granite,\n",
    "                                  chain_type=\"stuff\", \n",
    "                                  retriever=retriever)\n"
   ]
  },
  {
   "cell_type": "markdown",
   "id": "c9c6223e",
   "metadata": {},
   "source": [
    "## Ask your question\n",
    "After preparing the documents, you can set up a chain to include them in a prompt. This will allow LLM to use the docs as a reference when preparing answers.\n",
    "Get questions from the previously loaded dataset."
   ]
  },
  {
   "cell_type": "code",
   "execution_count": 85,
   "id": "c2bd4f61",
   "metadata": {},
   "outputs": [
    {
     "data": {
      "text/plain": [
       "\"\\nI'm not a dermatologist, but I can provide some general advice. For mild acne, a gentle face wash and a topical medication like clindamycin or retenoic acid can be helpful. However, if your acne is more severe (grade 2 or higher), you will likely need oral medication in addition to topical treatments. It's important to consult with a dermatologist to get an accurate diagnosis and treatment plan. They may recommend antibiotics, retinoids, or other medications based on your specific\""
      ]
     },
     "execution_count": 85,
     "metadata": {},
     "output_type": "execute_result"
    }
   ],
   "source": [
    "query = \"I have started to get lots of acne on my face, particularly on my forehead what can I do\"\n",
    "qa.run(query)"
   ]
  },
  {
   "cell_type": "code",
   "execution_count": null,
   "id": "543d4e2f",
   "metadata": {},
   "outputs": [],
   "source": [
    "template = \"\"\"Use the following pieces of context to answer the question at the end. \n",
    "If you don't know the answer, just say that you don't know, don't try to make up an answer. \n",
    "Use three sentences maximum and keep the answer as concise as possible. \n",
    "Always say \"thanks for asking!\" at the end of the answer. \n",
    "{context}\n",
    "Question: {question}\n",
    "Helpful Answer:\"\"\"\n",
    "rag_prompt = PromptTemplate.from_template(template)"
   ]
  },
  {
   "cell_type": "code",
   "execution_count": null,
   "id": "18252287",
   "metadata": {},
   "outputs": [],
   "source": [
    "rag_chain = (\n",
    "    {\"context\": retriever, \"question\": RunnablePassthrough()}\n",
    "    | rag_prompt\n",
    "    | watsonx_granite\n",
    ")"
   ]
  },
  {
   "cell_type": "code",
   "execution_count": null,
   "id": "2623a75b",
   "metadata": {},
   "outputs": [
    {
     "name": "stdout",
     "output_type": "stream",
     "text": [
      " IVF_FLAT is an index type in Milvus that divides vector space into list clusters. At the default list value of 16,384, Milvus compares the distances between the target vector and the centroids of all 16,384 clusters to return probe nearest clusters. Then Milvus compares the distances between the target vector and the vectors in the selected clusters to get the nearest vectors. This method can be time-consuming when dealing with a large number of vectors.\n",
      "\n",
      "\n"
     ]
    }
   ],
   "source": [
    "print(rag_chain.invoke(\"Explain IVF_FLAT in Milvus.\"))\n",
    "\n"
   ]
  }
 ],
 "metadata": {
  "kernelspec": {
   "display_name": ".venv",
   "language": "python",
   "name": "python3"
  },
  "language_info": {
   "codemirror_mode": {
    "name": "ipython",
    "version": 3
   },
   "file_extension": ".py",
   "mimetype": "text/x-python",
   "name": "python",
   "nbconvert_exporter": "python",
   "pygments_lexer": "ipython3",
   "version": "3.10.12"
  }
 },
 "nbformat": 4,
 "nbformat_minor": 5
}
