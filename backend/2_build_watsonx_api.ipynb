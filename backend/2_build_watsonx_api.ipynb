{
 "cells": [
  {
   "cell_type": "markdown",
   "id": "57ff6ab6",
   "metadata": {},
   "source": [
    "# WatsonX BackEnd Pipeline"
   ]
  },
  {
   "cell_type": "markdown",
   "id": "4883e577",
   "metadata": {
    "id": "4883e577"
   },
   "source": [
    "## Preparations"
   ]
  },
  {
   "cell_type": "markdown",
   "id": "0117995a",
   "metadata": {
    "id": "0117995a"
   },
   "source": [
    "First we need to install dependencies such as towhee, towhee.models and gradio."
   ]
  },
  {
   "cell_type": "code",
   "execution_count": 1,
   "id": "c9ba3850",
   "metadata": {
    "id": "c9ba3850",
    "outputId": "64286339-3996-4317-c6c6-6582e74a8eec"
   },
   "outputs": [],
   "source": [
    "!python3 -m pip install -q towhee towhee.models gradio datasets ipywidgets"
   ]
  },
  {
   "cell_type": "markdown",
   "id": "a90db0c5",
   "metadata": {
    "id": "a90db0c5"
   },
   "source": [
    "### Prepare the Data"
   ]
  },
  {
   "cell_type": "code",
   "execution_count": 2,
   "id": "a6999b05",
   "metadata": {},
   "outputs": [],
   "source": [
    "from datasets import load_dataset\n",
    "from IPython.display import clear_output\n",
    "dataset = load_dataset(\"ruslanmv/ai-medical-chatbot\")\n",
    "clear_output()"
   ]
  },
  {
   "cell_type": "markdown",
   "id": "c4abdc0a",
   "metadata": {
    "id": "c4abdc0a"
   },
   "source": [
    "**dataset**: a file containing question and the answer.\n",
    "\n",
    "Let's take a quick look:"
   ]
  },
  {
   "cell_type": "code",
   "execution_count": 3,
   "id": "4f9be551",
   "metadata": {},
   "outputs": [
    {
     "name": "stdout",
     "output_type": "stream",
     "text": [
      "['Description', 'Patient', 'Doctor']\n"
     ]
    }
   ],
   "source": [
    "column_names = dataset[\"train\"].column_names\n",
    "print(column_names)"
   ]
  },
  {
   "cell_type": "code",
   "execution_count": 4,
   "id": "d652efea",
   "metadata": {
    "id": "d652efea",
    "outputId": "ee6fdd36-8205-40d0-b7b2-701c09f153f7"
   },
   "outputs": [
    {
     "name": "stdout",
     "output_type": "stream",
     "text": [
      "{'Description': 'Q. What does abutment of the nerve root mean?', 'Patient': 'Hi doctor,I am just wondering what is abutting and abutment of the nerve root means in a back issue. Please explain. What treatment is required for\\xa0annular bulging and tear?', 'Doctor': 'Hi. I have gone through your query with diligence and would like you to know that I am here to help you. For further information consult a neurologist online -->'}\n"
     ]
    }
   ],
   "source": [
    "train_data = dataset[\"train\"]\n",
    "for i in range(1):\n",
    "    print(train_data[i])"
   ]
  },
  {
   "cell_type": "markdown",
   "id": "f9e88cee",
   "metadata": {},
   "source": [
    "For this demo let us choose the first 1000 dialogues"
   ]
  },
  {
   "cell_type": "code",
   "execution_count": 5,
   "id": "a8c2ca67",
   "metadata": {},
   "outputs": [],
   "source": [
    "import pandas as pd\n",
    "df = pd.DataFrame(train_data[:5])"
   ]
  },
  {
   "cell_type": "code",
   "execution_count": 6,
   "id": "4ac441c8",
   "metadata": {},
   "outputs": [
    {
     "data": {
      "text/html": [
       "<div>\n",
       "<style scoped>\n",
       "    .dataframe tbody tr th:only-of-type {\n",
       "        vertical-align: middle;\n",
       "    }\n",
       "\n",
       "    .dataframe tbody tr th {\n",
       "        vertical-align: top;\n",
       "    }\n",
       "\n",
       "    .dataframe thead th {\n",
       "        text-align: right;\n",
       "    }\n",
       "</style>\n",
       "<table border=\"1\" class=\"dataframe\">\n",
       "  <thead>\n",
       "    <tr style=\"text-align: right;\">\n",
       "      <th></th>\n",
       "      <th>Description</th>\n",
       "      <th>Patient</th>\n",
       "      <th>Doctor</th>\n",
       "    </tr>\n",
       "  </thead>\n",
       "  <tbody>\n",
       "    <tr>\n",
       "      <th>0</th>\n",
       "      <td>Q. What does abutment of the nerve root mean?</td>\n",
       "      <td>Hi doctor,I am just wondering what is abutting...</td>\n",
       "      <td>Hi. I have gone through your query with dilige...</td>\n",
       "    </tr>\n",
       "    <tr>\n",
       "      <th>1</th>\n",
       "      <td>Q. What should I do to reduce my weight gained...</td>\n",
       "      <td>Hi doctor, I am a 22-year-old female who was d...</td>\n",
       "      <td>Hi. You have really done well with the hypothy...</td>\n",
       "    </tr>\n",
       "    <tr>\n",
       "      <th>2</th>\n",
       "      <td>Q. I have started to get lots of acne on my fa...</td>\n",
       "      <td>Hi doctor! I used to have clear skin but since...</td>\n",
       "      <td>Hi there Acne has multifactorial etiology. Onl...</td>\n",
       "    </tr>\n",
       "    <tr>\n",
       "      <th>3</th>\n",
       "      <td>Q. Why do I have uncomfortable feeling between...</td>\n",
       "      <td>Hello doctor,I am having an uncomfortable feel...</td>\n",
       "      <td>Hello. The popping and discomfort what you fel...</td>\n",
       "    </tr>\n",
       "    <tr>\n",
       "      <th>4</th>\n",
       "      <td>Q. My symptoms after intercourse threatns me e...</td>\n",
       "      <td>Hello doctor,Before two years had sex with a c...</td>\n",
       "      <td>Hello. The HIV test uses a finger prick blood ...</td>\n",
       "    </tr>\n",
       "  </tbody>\n",
       "</table>\n",
       "</div>"
      ],
      "text/plain": [
       "                                         Description  \\\n",
       "0      Q. What does abutment of the nerve root mean?   \n",
       "1  Q. What should I do to reduce my weight gained...   \n",
       "2  Q. I have started to get lots of acne on my fa...   \n",
       "3  Q. Why do I have uncomfortable feeling between...   \n",
       "4  Q. My symptoms after intercourse threatns me e...   \n",
       "\n",
       "                                             Patient  \\\n",
       "0  Hi doctor,I am just wondering what is abutting...   \n",
       "1  Hi doctor, I am a 22-year-old female who was d...   \n",
       "2  Hi doctor! I used to have clear skin but since...   \n",
       "3  Hello doctor,I am having an uncomfortable feel...   \n",
       "4  Hello doctor,Before two years had sex with a c...   \n",
       "\n",
       "                                              Doctor  \n",
       "0  Hi. I have gone through your query with dilige...  \n",
       "1  Hi. You have really done well with the hypothy...  \n",
       "2  Hi there Acne has multifactorial etiology. Onl...  \n",
       "3  Hello. The popping and discomfort what you fel...  \n",
       "4  Hello. The HIV test uses a finger prick blood ...  "
      ]
     },
     "execution_count": 6,
     "metadata": {},
     "output_type": "execute_result"
    }
   ],
   "source": [
    "df.head()"
   ]
  },
  {
   "cell_type": "markdown",
   "id": "3a7330f1",
   "metadata": {},
   "source": [
    "For the development of the model, let just consider the patient and doctor"
   ]
  },
  {
   "cell_type": "code",
   "execution_count": 7,
   "id": "a9cb7d9d",
   "metadata": {},
   "outputs": [],
   "source": [
    "#df = df[[\"Patient\", \"Doctor\"]].rename(columns={\"Patient\": \"question\", \"Doctor\": \"answer\"})\n",
    "df = df[[\"Description\", \"Doctor\"]].rename(columns={\"Description\": \"question\", \"Doctor\": \"answer\"})"
   ]
  },
  {
   "cell_type": "code",
   "execution_count": 8,
   "id": "9f7c876f",
   "metadata": {},
   "outputs": [],
   "source": [
    "# Add the 'ID' column as the first column\n",
    "df.insert(0, 'id', df.index)\n",
    "# Reset the index and drop the previous index column\n",
    "df = df.reset_index(drop=True)"
   ]
  },
  {
   "cell_type": "code",
   "execution_count": 9,
   "id": "a5ecbb09",
   "metadata": {},
   "outputs": [],
   "source": [
    "import re\n",
    "# Clean the 'question' and 'answer' columns\n",
    "df['question'] = df['question'].apply(lambda x: re.sub(r'\\s+', ' ', x.strip()))\n",
    "df['answer'] = df['answer'].apply(lambda x: re.sub(r'\\s+', ' ', x.strip()))\n",
    "df['question'] = df['question'].str.replace('^Q.', '', regex=True)\n",
    "# Assuming your DataFrame is named df\n",
    "max_length = 500  # Due to our enbeeding model does not allow long strings\n",
    "df['question'] = df['question'].str.slice(0, max_length)"
   ]
  },
  {
   "cell_type": "code",
   "execution_count": 10,
   "id": "a63484f7",
   "metadata": {},
   "outputs": [
    {
     "data": {
      "text/html": [
       "<div>\n",
       "<style scoped>\n",
       "    .dataframe tbody tr th:only-of-type {\n",
       "        vertical-align: middle;\n",
       "    }\n",
       "\n",
       "    .dataframe tbody tr th {\n",
       "        vertical-align: top;\n",
       "    }\n",
       "\n",
       "    .dataframe thead th {\n",
       "        text-align: right;\n",
       "    }\n",
       "</style>\n",
       "<table border=\"1\" class=\"dataframe\">\n",
       "  <thead>\n",
       "    <tr style=\"text-align: right;\">\n",
       "      <th></th>\n",
       "      <th>id</th>\n",
       "      <th>question</th>\n",
       "      <th>answer</th>\n",
       "    </tr>\n",
       "  </thead>\n",
       "  <tbody>\n",
       "    <tr>\n",
       "      <th>0</th>\n",
       "      <td>0</td>\n",
       "      <td>What does abutment of the nerve root mean?</td>\n",
       "      <td>Hi. I have gone through your query with dilige...</td>\n",
       "    </tr>\n",
       "    <tr>\n",
       "      <th>1</th>\n",
       "      <td>1</td>\n",
       "      <td>What should I do to reduce my weight gained d...</td>\n",
       "      <td>Hi. You have really done well with the hypothy...</td>\n",
       "    </tr>\n",
       "    <tr>\n",
       "      <th>2</th>\n",
       "      <td>2</td>\n",
       "      <td>I have started to get lots of acne on my face...</td>\n",
       "      <td>Hi there Acne has multifactorial etiology. Onl...</td>\n",
       "    </tr>\n",
       "    <tr>\n",
       "      <th>3</th>\n",
       "      <td>3</td>\n",
       "      <td>Why do I have uncomfortable feeling between t...</td>\n",
       "      <td>Hello. The popping and discomfort what you fel...</td>\n",
       "    </tr>\n",
       "    <tr>\n",
       "      <th>4</th>\n",
       "      <td>4</td>\n",
       "      <td>My symptoms after intercourse threatns me eve...</td>\n",
       "      <td>Hello. The HIV test uses a finger prick blood ...</td>\n",
       "    </tr>\n",
       "  </tbody>\n",
       "</table>\n",
       "</div>"
      ],
      "text/plain": [
       "   id                                           question  \\\n",
       "0   0         What does abutment of the nerve root mean?   \n",
       "1   1   What should I do to reduce my weight gained d...   \n",
       "2   2   I have started to get lots of acne on my face...   \n",
       "3   3   Why do I have uncomfortable feeling between t...   \n",
       "4   4   My symptoms after intercourse threatns me eve...   \n",
       "\n",
       "                                              answer  \n",
       "0  Hi. I have gone through your query with dilige...  \n",
       "1  Hi. You have really done well with the hypothy...  \n",
       "2  Hi there Acne has multifactorial etiology. Onl...  \n",
       "3  Hello. The popping and discomfort what you fel...  \n",
       "4  Hello. The HIV test uses a finger prick blood ...  "
      ]
     },
     "execution_count": 10,
     "metadata": {},
     "output_type": "execute_result"
    }
   ],
   "source": [
    "df.head()"
   ]
  },
  {
   "cell_type": "markdown",
   "id": "309bfb43",
   "metadata": {
    "id": "309bfb43"
   },
   "source": [
    "To use the dataset to get answers, let's first define the dictionary:\n",
    "\n",
    "- `id_answer`: a dictionary of id and corresponding answer"
   ]
  },
  {
   "cell_type": "code",
   "execution_count": 11,
   "id": "fa2e3632",
   "metadata": {},
   "outputs": [],
   "source": [
    "id_answer = df.set_index('id')['answer'].to_dict()\n"
   ]
  },
  {
   "cell_type": "markdown",
   "id": "1c5a0858",
   "metadata": {
    "id": "1c5a0858"
   },
   "source": [
    "### Create Milvus Collection"
   ]
  },
  {
   "cell_type": "markdown",
   "id": "efb06a01",
   "metadata": {
    "id": "efb06a01"
   },
   "source": [
    "Before getting started, please make sure that you have started a [Milvus service](https://milvus.io/docs/install_standalone-docker.md). This notebook uses [milvus 2.2.10](https://milvus.io/docs/v2.2.x/install_standalone-docker.md) and [pymilvus 2.2.11](https://milvus.io/docs/release_notes.md#2210)."
   ]
  },
  {
   "cell_type": "code",
   "execution_count": 12,
   "id": "8048bf6c",
   "metadata": {
    "id": "8048bf6c"
   },
   "outputs": [],
   "source": [
    "!python3 -m pip install -q pymilvus==2.2.11 python-dotenv"
   ]
  },
  {
   "cell_type": "markdown",
   "id": "87ba2b23",
   "metadata": {
    "id": "87ba2b23"
   },
   "source": [
    "Next to define the function `create_milvus_collection` to create collection in Milvus that uses the [L2 distance metric](https://milvus.io/docs/metric.md#Euclidean-distance-L2) and an [IVF_FLAT index](https://milvus.io/docs/index.md#IVF_FLAT)."
   ]
  },
  {
   "cell_type": "markdown",
   "id": "344421fe",
   "metadata": {},
   "source": [
    "### Setup Remote Server\n",
    "Here we should define the variable `REMOTE_SERVER` just created [here](https://github.com/ruslanmv/Watsonx-Assistant-with-Milvus-as-Vector-Database/blob/master/README.md)"
   ]
  },
  {
   "cell_type": "code",
   "execution_count": 13,
   "id": "f4105b31",
   "metadata": {},
   "outputs": [],
   "source": [
    "LOCAL_SERVER='127.0.0.1'\n",
    "from dotenv import load_dotenv\n",
    "import os\n",
    "load_dotenv()\n",
    "host_milvus = os.environ.get(\"REMOTE_SERVER\", LOCAL_SERVER)"
   ]
  },
  {
   "cell_type": "code",
   "execution_count": 14,
   "id": "68e15f49",
   "metadata": {},
   "outputs": [],
   "source": [
    "from pymilvus import connections, FieldSchema, CollectionSchema, DataType, Collection, utility\n",
    "connections.connect(host=host_milvus, port='19530')"
   ]
  },
  {
   "cell_type": "code",
   "execution_count": 15,
   "id": "22c19982",
   "metadata": {
    "id": "22c19982"
   },
   "outputs": [],
   "source": [
    "collection_name='qa_medical_big'\n",
    "def create_milvus_collection(collection_name, dim):\n",
    "    if utility.has_collection(collection_name):\n",
    "        utility.drop_collection(collection_name)\n",
    "\n",
    "    fields = [\n",
    "    FieldSchema(name='id', dtype=DataType.INT64, descrition='ids', max_length=500, is_primary=True, auto_id=False),\n",
    "    FieldSchema(name='embedding', dtype=DataType.FLOAT_VECTOR, descrition='embedding vectors', dim=dim)\n",
    "    ]\n",
    "    schema = CollectionSchema(fields=fields, description='reverse image search')\n",
    "    collection = Collection(name=collection_name, schema=schema)\n",
    "\n",
    "    # create IVF_FLAT index for collection.\n",
    "    index_params = {\n",
    "        'metric_type':'L2',\n",
    "        'index_type':\"IVF_FLAT\",\n",
    "        'params':{\"nlist\":2048}\n",
    "    }\n",
    "    collection.create_index(field_name=\"embedding\", index_params=index_params)\n",
    "    return collection\n",
    "collection = create_milvus_collection(collection_name, 768)"
   ]
  },
  {
   "cell_type": "markdown",
   "id": "4c0188bf",
   "metadata": {
    "id": "4c0188bf"
   },
   "source": [
    "### Load question embedding into Milvus"
   ]
  },
  {
   "cell_type": "markdown",
   "id": "0a654fdc",
   "metadata": {
    "id": "0a654fdc"
   },
   "source": [
    "We first generate embedding from question text with [dpr](https://towhee.io/text-embedding/dpr) operator and insert the embedding into Milvus. Towhee provides a [method-chaining style API](https://towhee.readthedocs.io/en/main/index.html) so that users can assemble a data processing pipeline with operators."
   ]
  },
  {
   "cell_type": "code",
   "execution_count": 16,
   "id": "e6fa8061",
   "metadata": {},
   "outputs": [],
   "source": [
    "from IPython.display import clear_output"
   ]
  },
  {
   "cell_type": "code",
   "execution_count": 17,
   "id": "1414fc0f",
   "metadata": {},
   "outputs": [
    {
     "name": "stdout",
     "output_type": "stream",
     "text": [
      "CPU times: user 828 ms, sys: 1.52 s, total: 2.34 s\n",
      "Wall time: 11 s\n"
     ]
    }
   ],
   "source": [
    "%%time\n",
    "from towhee import pipe, ops\n",
    "import numpy as np\n",
    "from towhee.datacollection import DataCollection\n",
    "from IPython.display import clear_output\n",
    "max_input_length = 500  # Maximum length allowed by the model\n",
    "insert_pipe = (\n",
    "    pipe.input('id', 'question', 'answer')\n",
    "        .map('question', 'vec', lambda x: x[:max_input_length])  # Truncate the question if longer than 500 tokens\n",
    "        .map('vec', 'vec', ops.text_embedding.dpr(model_name='facebook/dpr-ctx_encoder-single-nq-base'))\n",
    "        .map('vec', 'vec', lambda x: x / np.linalg.norm(x, axis=0))\n",
    "        .map(('id', 'vec'), 'insert_status', ops.ann_insert.milvus_client(host=host_milvus, port='19530', collection_name=collection_name))\n",
    "        .output()\n",
    ")\n",
    "clear_output()  "
   ]
  },
  {
   "cell_type": "code",
   "execution_count": 18,
   "id": "174afca6",
   "metadata": {},
   "outputs": [
    {
     "name": "stdout",
     "output_type": "stream",
     "text": [
      "CPU times: user 688 ms, sys: 46.9 ms, total: 734 ms\n",
      "Wall time: 5.36 s\n"
     ]
    }
   ],
   "source": [
    "%%time\n",
    "# Assuming you have a DataFrame named df\n",
    "# Iterate over each row in the DataFrame\n",
    "for index, row in df.iterrows():\n",
    "    question = row['question']\n",
    "    # Truncate the question string if it exceeds the expected size for the model\n",
    "    if len(question) > 500:\n",
    "        row['question'] = question[:500]  # Truncate the question string if it exceeds 500 characters\n",
    "    insert_pipe(*row)\n",
    "# Clear the output\n",
    "clear_output()    "
   ]
  },
  {
   "cell_type": "code",
   "execution_count": 19,
   "id": "edb3bf70",
   "metadata": {},
   "outputs": [],
   "source": [
    "# Iterate over each row in the DataFrame\n",
    "#for index, row in df.iterrows():\n",
    "#    insert_pipe(*row)"
   ]
  },
  {
   "cell_type": "code",
   "execution_count": 20,
   "id": "1adbb2e1",
   "metadata": {
    "id": "1adbb2e1",
    "outputId": "b6dea15e-3ae8-4263-d6d3-7c1822b3ba19"
   },
   "outputs": [
    {
     "name": "stdout",
     "output_type": "stream",
     "text": [
      "Total number of inserted data is 0.\n"
     ]
    }
   ],
   "source": [
    "print('Total number of inserted data is {}.'.format(collection.num_entities))"
   ]
  },
  {
   "cell_type": "markdown",
   "id": "b35657d0",
   "metadata": {
    "id": "b35657d0"
   },
   "source": [
    "### Ask Question with Milvus and Towhee"
   ]
  },
  {
   "cell_type": "markdown",
   "id": "cd02adfc",
   "metadata": {
    "id": "cd02adfc"
   },
   "source": [
    "Now that embedding for question dataset have been inserted into Milvus, we can ask question with Milvus and Towhee. Again, we use Towhee to load the input question, compute a embedding, and use it as a query in Milvus. Because Milvus only outputs IDs and distance values, we provide the `id_answers` dictionary to get the answers based on IDs and display."
   ]
  },
  {
   "cell_type": "code",
   "execution_count": 21,
   "id": "f3b4b120",
   "metadata": {},
   "outputs": [],
   "source": [
    "from towhee import pipe, ops\n",
    "import numpy as np\n",
    "from towhee.datacollection import DataCollection\n",
    "from IPython.display import clear_output\n",
    "# Define the maximum input length for the question\n",
    "max_input_length = 512"
   ]
  },
  {
   "cell_type": "code",
   "execution_count": 22,
   "id": "bdd4383b-7f96-438a-80bd-ff2f691eaac6",
   "metadata": {},
   "outputs": [
    {
     "name": "stderr",
     "output_type": "stream",
     "text": [
      "2024-02-19 12:25:07,507 - 140040949338560 - connectionpool.py-connectionpool:549 - DEBUG: https://huggingface.co:443 \"HEAD /facebook/dpr-ctx_encoder-single-nq-base/resolve/main/tokenizer_config.json HTTP/1.1\" 200 0\n",
      "2024-02-19 12:25:07,699 - 140040949338560 - connectionpool.py-connectionpool:549 - DEBUG: https://huggingface.co:443 \"HEAD /facebook/dpr-ctx_encoder-single-nq-base/resolve/main/config.json HTTP/1.1\" 200 0\n",
      "2024-02-19 12:25:07,835 - 140040949338560 - connectionpool.py-connectionpool:549 - DEBUG: https://huggingface.co:443 \"HEAD /facebook/dpr-ctx_encoder-single-nq-base/resolve/main/config.json HTTP/1.1\" 200 0\n"
     ]
    },
    {
     "name": "stdout",
     "output_type": "stream",
     "text": [
      "CPU times: user 46.9 ms, sys: 484 ms, total: 531 ms\n",
      "Wall time: 5.07 s\n"
     ]
    }
   ],
   "source": [
    "%%time\n",
    "# Load the collection\n",
    "collection.load()\n",
    "# Create the combined pipe for question encoding and answer retrieval\n",
    "combined_pipe = (\n",
    "    pipe.input('question')\n",
    "        .map('question', 'vec', lambda x: x[:max_input_length])  # Truncate the question if longer than 512 tokens\n",
    "        .map('vec', 'vec', ops.text_embedding.dpr(model_name='facebook/dpr-ctx_encoder-single-nq-base'))\n",
    "        .map('vec', 'vec', lambda x: x / np.linalg.norm(x, axis=0))\n",
    "        .map('vec', 'res', ops.ann_search.milvus_client(host=host_milvus, port='19530', collection_name=collection_name, limit=1))\n",
    "        .map('res', 'answer', lambda x: [id_answer[int(i[0])] for i in x])\n",
    "        .output('question', 'answer')\n",
    ")\n",
    "clear_output()  "
   ]
  },
  {
   "cell_type": "code",
   "execution_count": 23,
   "id": "e870f205-b810-44be-be08-573794f1871e",
   "metadata": {},
   "outputs": [
    {
     "name": "stderr",
     "output_type": "stream",
     "text": [
      "2024-02-19 12:25:09,757 - 140031972804160 - node.py-node:167 - INFO: Begin to run Node-_input\n",
      "2024-02-19 12:25:09,758 - 140034343503424 - node.py-node:167 - INFO: Begin to run Node-lambda-0\n",
      "2024-02-19 12:25:09,759 - 140031964350016 - node.py-node:167 - INFO: Begin to run Node-text-embedding/dpr-1\n",
      "2024-02-19 12:25:09,759 - 140031955895872 - node.py-node:167 - INFO: Begin to run Node-lambda-2\n",
      "2024-02-19 12:25:09,760 - 140031972804160 - node.py-node:167 - INFO: Begin to run Node-ann-search/milvus-client-3\n",
      "2024-02-19 12:25:09,761 - 140031947441728 - node.py-node:167 - INFO: Begin to run Node-lambda-4\n",
      "2024-02-19 12:25:09,761 - 140034343503424 - node.py-node:167 - INFO: Begin to run Node-_output\n"
     ]
    },
    {
     "name": "stdout",
     "output_type": "stream",
     "text": [
      "CPU times: user 0 ns, sys: 15.6 ms, total: 15.6 ms\n",
      "Wall time: 434 ms\n"
     ]
    }
   ],
   "source": [
    "%%time\n",
    "# Perform the encoding and retrieval for a specific question\n",
    "ans = combined_pipe('What does abutment of the nerve root mean?')\n",
    "ans = DataCollection(ans)"
   ]
  },
  {
   "cell_type": "code",
   "execution_count": 24,
   "id": "39da23fe-1e79-41d7-8c33-c61b547c86a0",
   "metadata": {},
   "outputs": [
    {
     "data": {
      "text/html": [
       "<table style=\"border-collapse: collapse;\"><tr><th style=\"text-align: center; font-size: 130%; border: none;\">question</th> <th style=\"text-align: center; font-size: 130%; border: none;\">answer</th></tr>\n",
       "<tr><td style=\"text-align: center; vertical-align: top; border-right: solid 1px #D3D3D3; border-left: solid 1px #D3D3D3; \">What does abutment of the nerve root mean?</td><td style=\"text-align: center; vertical-align: top; border-right: solid 1px #D3D3D3; border-left: solid 1px #D3D3D3; \"><br>Hi. I have gone through your query with diligence and would like you to know that I am here to help you. For further information...</br></td></tr></table>"
      ],
      "text/plain": [
       "<IPython.core.display.HTML object>"
      ]
     },
     "metadata": {},
     "output_type": "display_data"
    }
   ],
   "source": [
    "ans.show()"
   ]
  },
  {
   "cell_type": "markdown",
   "id": "bfb05a79",
   "metadata": {
    "id": "bfb05a79"
   },
   "source": [
    "Then we can get the answer about 'What does abutment of the nerve root mean?'."
   ]
  },
  {
   "cell_type": "code",
   "execution_count": 25,
   "id": "cb1a8f96",
   "metadata": {
    "id": "cb1a8f96",
    "outputId": "c19e3d2f-0e0b-47c5-ade8-85543543bdf8"
   },
   "outputs": [
    {
     "data": {
      "text/plain": [
       "['Hi. I have gone through your query with diligence and would like you to know that I am here to help you. For further information consult a neurologist online -->']"
      ]
     },
     "execution_count": 25,
     "metadata": {},
     "output_type": "execute_result"
    }
   ],
   "source": [
    "ans[0]['answer']"
   ]
  }
 ],
 "metadata": {
  "colab": {
   "include_colab_link": true,
   "provenance": []
  },
  "kernelspec": {
   "display_name": "Python (watsonx)",
   "language": "python",
   "name": "llm"
  },
  "language_info": {
   "codemirror_mode": {
    "name": "ipython",
    "version": 3
   },
   "file_extension": ".py",
   "mimetype": "text/x-python",
   "name": "python",
   "nbconvert_exporter": "python",
   "pygments_lexer": "ipython3",
   "version": "3.10.12"
  },
  "vscode": {
   "interpreter": {
    "hash": "f7dd10cdbe9a9c71f7e71741efd428241b5f9fa0fecdd29ae07a5706cd5ff8a2"
   }
  }
 },
 "nbformat": 4,
 "nbformat_minor": 5
}
