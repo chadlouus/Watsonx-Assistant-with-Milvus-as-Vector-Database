{
 "cells": [
  {
   "cell_type": "markdown",
   "id": "961dd942-c947-46b2-ab5c-b1557e55374b",
   "metadata": {},
   "source": [
    "# Manage the Vector Database Milvus\n",
    "The purpose of this notebook is introduce the vector database, how to use it."
   ]
  },
  {
   "cell_type": "code",
   "execution_count": 1,
   "id": "846876b0-b381-486f-b25c-62520a3fa146",
   "metadata": {},
   "outputs": [],
   "source": [
    "#!pip install python-dotenv pymilvus"
   ]
  },
  {
   "cell_type": "code",
   "execution_count": 1,
   "id": "b7a75a8a-9087-48fc-b94f-9fbb4d443884",
   "metadata": {},
   "outputs": [],
   "source": [
    "from pymilvus import connections\n",
    "from dotenv import load_dotenv\n",
    "import os\n",
    "load_dotenv()\n",
    "host_milvus = os.environ.get(\"REMOTE_SERVER\", \"localhost\")"
   ]
  },
  {
   "cell_type": "code",
   "execution_count": 2,
   "id": "18f44837-3271-425a-a477-b8a7133c8ec7",
   "metadata": {},
   "outputs": [
    {
     "data": {
      "text/plain": [
       "'50.17.92.90'"
      ]
     },
     "execution_count": 2,
     "metadata": {},
     "output_type": "execute_result"
    }
   ],
   "source": [
    "host_milvus"
   ]
  },
  {
   "cell_type": "markdown",
   "id": "86a9aa86-22ea-403b-8310-872c4b195a62",
   "metadata": {},
   "source": [
    "## Connect to a Milvus server\r\n"
   ]
  },
  {
   "cell_type": "code",
   "execution_count": 23,
   "id": "4b154195-6fd5-4b20-9ae4-026d40ed748b",
   "metadata": {},
   "outputs": [],
   "source": [
    "from pymilvus import connections, FieldSchema, CollectionSchema, DataType, Collection, utility\n",
    "conn = connections.connect(host=host_milvus, port=19530)"
   ]
  },
  {
   "cell_type": "markdown",
   "id": "1902db61-7edf-4ba6-8e2f-ff2d7b9cd895",
   "metadata": {},
   "source": [
    "## Create database\r\n"
   ]
  },
  {
   "cell_type": "code",
   "execution_count": 24,
   "id": "ce8c5a70-14f2-4266-83b9-304359f3c405",
   "metadata": {},
   "outputs": [],
   "source": [
    "database = db.create_database(\"book\")"
   ]
  },
  {
   "cell_type": "markdown",
   "id": "e281ce59-04f9-45b7-ba45-7daa5cc1ebb2",
   "metadata": {},
   "source": [
    "## List databases"
   ]
  },
  {
   "cell_type": "code",
   "execution_count": 25,
   "id": "60f66398-ce9d-40f2-8215-61173e903f5a",
   "metadata": {},
   "outputs": [],
   "source": [
    "from pymilvus import connections, db"
   ]
  },
  {
   "cell_type": "code",
   "execution_count": 26,
   "id": "537b28d3-19b6-4fce-a623-64d9ecc3cd7e",
   "metadata": {},
   "outputs": [
    {
     "data": {
      "text/plain": [
       "['default', 'book']"
      ]
     },
     "execution_count": 26,
     "metadata": {},
     "output_type": "execute_result"
    }
   ],
   "source": [
    "db.list_database()"
   ]
  },
  {
   "cell_type": "markdown",
   "id": "f0c28313-a552-4feb-9071-ea102eb6d023",
   "metadata": {},
   "source": [
    "## Drop database"
   ]
  },
  {
   "cell_type": "code",
   "execution_count": 27,
   "id": "a8d87cf7-e0d1-4ee7-9b92-2a1b5f201041",
   "metadata": {},
   "outputs": [],
   "source": [
    "db.drop_database(\"book\")"
   ]
  },
  {
   "cell_type": "code",
   "execution_count": 28,
   "id": "818c7566-4f57-44e2-8ec8-2142e1deebab",
   "metadata": {},
   "outputs": [
    {
     "data": {
      "text/plain": [
       "['default']"
      ]
     },
     "execution_count": 28,
     "metadata": {},
     "output_type": "execute_result"
    }
   ],
   "source": [
    "db.list_database()\n"
   ]
  },
  {
   "cell_type": "markdown",
   "id": "b7023bf4-227e-43e7-aaf2-36b88c196698",
   "metadata": {},
   "source": [
    "##  Create a Collection\n",
    "\n"
   ]
  },
  {
   "cell_type": "code",
   "execution_count": 30,
   "id": "4ef6d6c8-b194-49fa-b269-aa27e094ff06",
   "metadata": {},
   "outputs": [],
   "source": [
    "from pymilvus import CollectionSchema, FieldSchema, DataType\n",
    "book_id = FieldSchema(\n",
    "  name=\"book_id\",\n",
    "  dtype=DataType.INT64,\n",
    "  is_primary=True,\n",
    ")\n",
    "book_name = FieldSchema(\n",
    "  name=\"book_name\",\n",
    "  dtype=DataType.VARCHAR,\n",
    "  max_length=200,\n",
    "  # The default value will be used if this field is left empty during data inserts or upserts.\n",
    "  # The data type of `default_value` must be the same as that specified in `dtype`.\n",
    "  default_value=\"Unknown\"\n",
    ")\n",
    "word_count = FieldSchema(\n",
    "  name=\"word_count\",\n",
    "  dtype=DataType.INT64,\n",
    "  # The default value will be used if this field is left empty during data inserts or upserts.\n",
    "  # The data type of `default_value` must be the same as that specified in `dtype`.\n",
    "  default_value=9999\n",
    ")\n",
    "book_intro = FieldSchema(\n",
    "  name=\"book_intro\",\n",
    "  dtype=DataType.FLOAT_VECTOR,\n",
    "  dim=2\n",
    ")\n",
    "schema = CollectionSchema(\n",
    "  fields=[book_id, book_name, word_count, book_intro],\n",
    "  description=\"Test book search\",\n",
    "  enable_dynamic_field=True\n",
    ")\n",
    "collection_name = \"book\"\n"
   ]
  },
  {
   "cell_type": "markdown",
   "id": "e569459c-0daa-4609-8fd8-4d0afac363d2",
   "metadata": {},
   "source": [
    "## Create a collection with the schema"
   ]
  },
  {
   "cell_type": "code",
   "execution_count": 31,
   "id": "06ba00ef-01aa-4c70-9fe5-3e8602cc2e6d",
   "metadata": {},
   "outputs": [],
   "source": [
    "from pymilvus import Collection\n",
    "collection = Collection(\n",
    "    name=collection_name,\n",
    "    schema=schema,\n",
    "    using='default',\n",
    "    shards_num=2\n",
    "    )\n"
   ]
  },
  {
   "cell_type": "markdown",
   "id": "c8d78d7d-6dda-48b2-aa40-69d41951bf42",
   "metadata": {},
   "source": [
    "## List all collections"
   ]
  },
  {
   "cell_type": "code",
   "execution_count": 38,
   "id": "dbcbac83-b4e3-45b5-9393-5dabc31184fd",
   "metadata": {},
   "outputs": [
    {
     "data": {
      "text/plain": [
       "['question_answers', 'question_answer_medical', 'question_answer']"
      ]
     },
     "execution_count": 38,
     "metadata": {},
     "output_type": "execute_result"
    }
   ],
   "source": [
    "from pymilvus import utility\n",
    "utility.list_collections()\n"
   ]
  },
  {
   "cell_type": "markdown",
   "id": "58da99e6-0fb9-41e2-9702-88f2349d04f6",
   "metadata": {},
   "source": [
    "## Check if a collection exists"
   ]
  },
  {
   "cell_type": "code",
   "execution_count": 33,
   "id": "f8eb7aa0-7f80-4057-beab-750d29410c0b",
   "metadata": {},
   "outputs": [
    {
     "data": {
      "text/plain": [
       "True"
      ]
     },
     "execution_count": 33,
     "metadata": {},
     "output_type": "execute_result"
    }
   ],
   "source": [
    "from pymilvus import utility\n",
    "utility.has_collection(\"book\")"
   ]
  },
  {
   "cell_type": "code",
   "execution_count": 35,
   "id": "69d590e9-dbca-4b3f-be21-dfacd9163ba8",
   "metadata": {},
   "outputs": [
    {
     "data": {
      "text/plain": [
       "[]"
      ]
     },
     "execution_count": 35,
     "metadata": {},
     "output_type": "execute_result"
    }
   ],
   "source": [
    "from pymilvus import Collection\n",
    "collection = Collection(\"book\")  # Get an existing collection.\n",
    "collection.schema                # Return the schema.CollectionSchema of the collection.\n",
    "collection.description           # Return the description of the collection.\n",
    "collection.name                  # Return the name of the collection.\n",
    "collection.is_empty              # Return the boolean value that indicates if the collection is empty.\n",
    "collection.num_entities          # Return the number of entities in the collection.\n",
    "collection.primary_field         # Return the schema.FieldSchema of the primary key field.\n",
    "collection.partitions            # Return the list[Partition] object.\n",
    "collection.indexes               # Return the list[Index] object.\n",
    "#collection.properties\t\t# Return the expiration time of data in the collection.\n"
   ]
  },
  {
   "cell_type": "code",
   "execution_count": 36,
   "id": "17b2cde0-9b52-4894-a894-19c5e5e0e7f3",
   "metadata": {},
   "outputs": [
    {
     "data": {
      "text/plain": [
       "{'auto_id': False, 'description': 'Test book search', 'fields': [{'name': 'book_id', 'description': '', 'type': <DataType.INT64: 5>, 'is_primary': True, 'auto_id': False}, {'name': 'book_name', 'description': '', 'type': <DataType.VARCHAR: 21>, 'params': {'max_length': 200}}, {'name': 'word_count', 'description': '', 'type': <DataType.INT64: 5>}, {'name': 'book_intro', 'description': '', 'type': <DataType.FLOAT_VECTOR: 101>, 'params': {'dim': 2}}], 'enable_dynamic_field': True}"
      ]
     },
     "execution_count": 36,
     "metadata": {},
     "output_type": "execute_result"
    }
   ],
   "source": [
    "collection.schema  "
   ]
  },
  {
   "cell_type": "markdown",
   "id": "8bae79cb-e210-4c14-afe8-fa87a06aab6f",
   "metadata": {},
   "source": [
    "## Drop a collection\n"
   ]
  },
  {
   "cell_type": "code",
   "execution_count": 37,
   "id": "ef809d18-b0ef-4ccb-96dc-cc4869e7b83c",
   "metadata": {},
   "outputs": [],
   "source": [
    "from pymilvus import utility\n",
    "#Dropping a collection irreversibly deletes all data within it.\n",
    "utility.drop_collection(\"book\")\n"
   ]
  },
  {
   "cell_type": "markdown",
   "id": "d4b1972a-289a-40c7-80d2-50ecfbd4b694",
   "metadata": {},
   "source": [
    "## Disconnect from a Milvus server"
   ]
  },
  {
   "cell_type": "code",
   "execution_count": 39,
   "id": "c1c22c8d-5867-4d76-9332-0723ec10768c",
   "metadata": {},
   "outputs": [],
   "source": [
    "connections.disconnect(\"default\")"
   ]
  },
  {
   "cell_type": "code",
   "execution_count": null,
   "id": "4f168743-9f90-4f99-b87e-0235952e7526",
   "metadata": {},
   "outputs": [],
   "source": []
  }
 ],
 "metadata": {
  "kernelspec": {
   "display_name": "Python (watsonx)",
   "language": "python",
   "name": "llm"
  },
  "language_info": {
   "codemirror_mode": {
    "name": "ipython",
    "version": 3
   },
   "file_extension": ".py",
   "mimetype": "text/x-python",
   "name": "python",
   "nbconvert_exporter": "python",
   "pygments_lexer": "ipython3",
   "version": "3.10.12"
  }
 },
 "nbformat": 4,
 "nbformat_minor": 5
}
