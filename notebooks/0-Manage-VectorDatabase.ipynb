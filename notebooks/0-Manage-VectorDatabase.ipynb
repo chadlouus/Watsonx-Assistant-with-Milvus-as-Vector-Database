{
 "cells": [
  {
   "cell_type": "markdown",
   "id": "961dd942-c947-46b2-ab5c-b1557e55374b",
   "metadata": {},
   "source": [
    "# Manage the Vector Database Milvus\n",
    "The purpose of this notebook is introduce the vector database, how to use it."
   ]
  },
  {
   "cell_type": "code",
   "execution_count": 3,
   "id": "846876b0-b381-486f-b25c-62520a3fa146",
   "metadata": {},
   "outputs": [],
   "source": [
    "#!pip install python-dotenv pymilvus"
   ]
  },
  {
   "cell_type": "code",
   "execution_count": null,
   "id": "7530394d-c3fe-4572-aca6-ebdd65ca3b0f",
   "metadata": {},
   "outputs": [],
   "source": [
    "from pymilvus import connections\n",
    "from dotenv import load_dotenv\n",
    "import os\n",
    "\n",
    "load_dotenv()\n",
    "\n",
    "host_milvus = os.environ.get(\"HOST_MILVUS\", \"localhost\")\n",
    "port = \"19530\"\n",
    "token = \"root:Milvus\"\n",
    "\n",
    "connections.connect(\n",
    "  alias=\"default\",\n",
    "  uri=f\"{host_milvus}:{port}\",\n",
    "  token=token,\n",
    ")\n"
   ]
  }
 ],
 "metadata": {
  "kernelspec": {
   "display_name": "Python (watsonx)",
   "language": "python",
   "name": "llm"
  },
  "language_info": {
   "codemirror_mode": {
    "name": "ipython",
    "version": 3
   },
   "file_extension": ".py",
   "mimetype": "text/x-python",
   "name": "python",
   "nbconvert_exporter": "python",
   "pygments_lexer": "ipython3",
   "version": "3.10.12"
  }
 },
 "nbformat": 4,
 "nbformat_minor": 5
}
