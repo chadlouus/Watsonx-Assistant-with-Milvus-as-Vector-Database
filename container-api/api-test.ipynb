{
 "cells": [
  {
   "cell_type": "markdown",
   "metadata": {},
   "source": [
    "# Testing API Medical Chat"
   ]
  },
  {
   "cell_type": "code",
   "execution_count": null,
   "metadata": {},
   "outputs": [],
   "source": [
    "import json\n",
    "import requests\n",
    "import os\n",
    "# get the current working directory\n",
    "current_working_directory = os.getcwd()\n",
    "# Join various path components\n",
    "openapi_path=os.path.join(current_working_directory, \"openapi.json\")\n",
    "print(openapi_path)\n",
    "# Load the openapi.json file\n",
    "with open(openapi_path, 'r') as file:\n",
    "    openapi_data = json.load(file)\n",
    "\n",
    "# Get the base URL of the API from the openapi.json file\n",
    "base_url = openapi_data['servers'][0]['url']\n",
    "\n",
    "# Define a function to test a specific API endpoint\n",
    "def test_endpoint(endpoint, method, parameters=None, data=None):\n",
    "    url = f\"{base_url}{endpoint}\"\n",
    "    response = requests.request(method, url, params=parameters, json=data)\n",
    "    if response.status_code == 200:\n",
    "        print(f\"API endpoint '{endpoint}' is working well.\")\n",
    "    else:\n",
    "        print(f\"API endpoint '{endpoint}' returned status code {response.status_code}.\")\n",
    "\n",
    "# Define a function to run a specific API endpoint\n",
    "def run_endpoint(endpoint, method, parameters=None, data=None):\n",
    "    url = f\"{base_url}{endpoint}\"\n",
    "    response = requests.request(method, url, params=parameters, json=data)\n",
    "    \n",
    "    if response.status_code == 200:\n",
    "        print(f\"API endpoint '{endpoint}' is working well.\")\n",
    "    else:\n",
    "        print(f\"API endpoint '{endpoint}' returned status code {response.status_code}.\")\n",
    "    \n",
    "    return response\n",
    "\n",
    "# Define a function to test the API endpoint and print the results\n",
    "def test_and_print_results(endpoint, method, data=None):\n",
    "    response = run_endpoint(endpoint, method, data=data)\n",
    "    \n",
    "    if response.status_code == 200:\n",
    "        response_data = response.json()\n",
    "        print(\"Response data:\")\n",
    "        print(json.dumps(response_data, indent=2))\n",
    "    else:\n",
    "        print(\"Error occurred. No data to display.\")\n",
    "\n",
    "# Test the POST request on the /chat endpoint\n",
    "example_endpoint = '/chat'\n",
    "example_method = 'POST'\n",
    "prompt = \"I have started to get lots of acne on my face, particularly on my forehead what can I do\"\n",
    "\n",
    "example_data = {'message': prompt}\n",
    "\n",
    "test_endpoint(example_endpoint, example_method, data=example_data)\n",
    "test_and_print_results(example_endpoint, example_method, data=example_data)\n"
   ]
  }
 ],
 "metadata": {
  "kernelspec": {
   "display_name": ".venv",
   "language": "python",
   "name": "python3"
  },
  "language_info": {
   "codemirror_mode": {
    "name": "ipython",
    "version": 3
   },
   "file_extension": ".py",
   "mimetype": "text/x-python",
   "name": "python",
   "nbconvert_exporter": "python",
   "pygments_lexer": "ipython3",
   "version": "3.10.12"
  }
 },
 "nbformat": 4,
 "nbformat_minor": 2
}
