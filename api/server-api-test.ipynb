{
 "cells": [
  {
   "cell_type": "code",
   "execution_count": null,
   "metadata": {},
   "outputs": [],
   "source": [
    "import gradio as gr\n",
    "def hello_world(input):\n",
    "    output = {\"message\": f\"Hello World, {input}\"}\n",
    "    return output  # Gradio automatically handles JSON encoding\n",
    "\n",
    "iface = gr.Interface(\n",
    "    fn=hello_world,\n",
    "    inputs=[\"text\"],  # Use a list for inputs\n",
    "    outputs=\"json\",\n",
    "    title=\"Hello World App\",\n",
    "    description=\"Type a string to append to the 'Hello World' prompt.\",\n",
    "    allow_flagging=\"never\",  # Prevent flagging since this is a local server\n",
    ")\n",
    "iface.launch(share=False, server_name=\"127.0.0.1\", server_port=7861)\n"
   ]
  },
  {
   "cell_type": "code",
   "execution_count": null,
   "metadata": {},
   "outputs": [],
   "source": [
    "import gradio as gr\n",
    "\n",
    "def hello_world(input):\n",
    "    output = {\"message\": f\"Hello World, {input}\"}\n",
    "    return output  # Gradio automatically handles JSON encoding\n",
    "\n",
    "iface = gr.Interface(\n",
    "    fn=hello_world,\n",
    "    inputs=[\"text\"],  # Use a list for inputs\n",
    "    outputs=\"json\",\n",
    "    title=\"Hello World App\",\n",
    "    description=\"Type a string to append to the 'Hello World' prompt.\",\n",
    "    allow_flagging=\"never\",  # Prevent flagging since this is a local server\n",
    ")\n",
    "iface.launch(share=False, server_name=\"0.0.0.0\", server_port=7861)\n"
   ]
  },
  {
   "cell_type": "code",
   "execution_count": null,
   "metadata": {},
   "outputs": [],
   "source": [
    "import gradio as gr\n",
    "\n",
    "def hello_world(input):\n",
    "    output = {\"message\": f\"Hello World, {input}\"}\n",
    "    return output  # Gradio handles JSON encoding\n",
    "\n",
    "iface = gr.Interface(\n",
    "    fn=hello_world,\n",
    "    inputs=[gr.Textbox(lines=1)],  # Use gr.Textbox for input\n",
    "    outputs=gr.JSON(label=\"JSON Response\"),  # Use gr.JSON for output\n",
    "    title=\"Hello World App\",\n",
    "    description=\"Type a string to append to the 'Hello World' prompt.\",\n",
    ")\n",
    "iface.launch(share=False, server_name=\"0.0.0.0\", server_port=7861)  # Enable sharing\n"
   ]
  },
  {
   "cell_type": "code",
   "execution_count": null,
   "metadata": {},
   "outputs": [],
   "source": [
    "import gradio as gr\n",
    "def hello_world(input):\n",
    "  output = {\"message\": f\"Hello World, {input}\"}\n",
    "  return output  # Return the output as a dictionary, Gradio handles JSON encoding\n",
    "\n",
    "iface = gr.Interface(\n",
    "  fn=hello_world,  # Pass the function directly without json.dumps\n",
    "  inputs=[\"text\"],  # Use a list for inputs\n",
    "  outputs=\"json\",\n",
    "  title=\"Hello World App\",\n",
    "  description=\"Type a string to append to the 'Hello World' prompt.\"\n",
    "\n",
    ")\n",
    "iface.launch(share=False, server_name=\"0.0.0.0\", server_port=7861)\n"
   ]
  }
 ],
 "metadata": {
  "kernelspec": {
   "display_name": ".venv",
   "language": "python",
   "name": "python3"
  },
  "language_info": {
   "codemirror_mode": {
    "name": "ipython",
    "version": 3
   },
   "file_extension": ".py",
   "mimetype": "text/x-python",
   "name": "python",
   "nbconvert_exporter": "python",
   "pygments_lexer": "ipython3",
   "version": "3.10.12"
  }
 },
 "nbformat": 4,
 "nbformat_minor": 2
}
