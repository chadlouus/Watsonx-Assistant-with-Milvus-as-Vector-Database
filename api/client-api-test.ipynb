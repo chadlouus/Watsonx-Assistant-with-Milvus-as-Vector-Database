{
 "cells": [
  {
   "cell_type": "code",
   "execution_count": null,
   "metadata": {},
   "outputs": [],
   "source": [
    "from gradio_client import Client\n",
    "client = Client(\"http://127.0.0.1:7861/\")\n",
    "result = client.predict(\n",
    "\t\t\"Howdy!\",\t# str  in 'input' Textbox component\n",
    "\t\tapi_name=\"/predict\"\n",
    ")\n",
    "#print(result)\n",
    "# Read the JSON file\n",
    "import json\n",
    "with open(result, 'r') as f:\n",
    "    data = json.load(f)\n",
    "# Convert the list to a dictionary\n",
    "data_dict = {\"message\": data['message']}\n",
    "# Print the content of the dictionary\n",
    "output_json=json.dumps(data_dict, indent=2)\n",
    "print(output_json) \n"
   ]
  },
  {
   "cell_type": "code",
   "execution_count": null,
   "metadata": {},
   "outputs": [],
   "source": [
    "def api_request(url):\n",
    "    import requests\n",
    "    response = requests.get(url)\n",
    "    if response.status_code == 200:\n",
    "        return response.json()\n",
    "    else:\n",
    "        print(response.text)  # Print the error message for debugging\n",
    "        return f\"Error: {response.status_code}\""
   ]
  },
  {
   "cell_type": "code",
   "execution_count": null,
   "metadata": {},
   "outputs": [],
   "source": [
    "url=\"http://127.0.0.1:7861/predict?input=Hello\""
   ]
  },
  {
   "cell_type": "code",
   "execution_count": null,
   "metadata": {},
   "outputs": [],
   "source": [
    "api_request(url)"
   ]
  },
  {
   "cell_type": "code",
   "execution_count": null,
   "metadata": {},
   "outputs": [],
   "source": [
    "from gradio import Interface, Textbox, JSON\n",
    "\n",
    "def api_request(url):\n",
    "    import requests\n",
    "    response = requests.get(url)\n",
    "    if response.status_code == 200:\n",
    "        return response.json()\n",
    "    else:\n",
    "        return f\"Error: {response.status_code}\"\n",
    "\n",
    "interface = Interface(\n",
    "    fn=api_request,\n",
    "    inputs=[Textbox(label=\"API URL\")],\n",
    "    outputs=[JSON(label=\"JSON Response\")],\n",
    "    title=\"API Get Request Tester\",\n",
    "    description=\"Enter an API URL and retrieve the JSON response.\",\n",
    "    examples=[[\"http://127.0.0.1:7861/predict?input=Hello\"],\n",
    "              [\"https://api.open-meteo.com/v1/forecast?latitude=52.52&longitude=13.41&current=temperature_2m,wind_speed_10m&hourly=temperature_2m,relative_humidity_2m,wind_speed_10m\"]],  # Use the correct endpoint\n",
    ")\n",
    "interface.launch(debug=True)\n"
   ]
  },
  {
   "cell_type": "code",
   "execution_count": null,
   "metadata": {},
   "outputs": [],
   "source": [
    "from gradio import Interface, Textbox, JSON\n",
    "\n",
    "def api_request(url):\n",
    "    import requests\n",
    "    response = requests.get(url)\n",
    "    if response.status_code == 200:\n",
    "        return response.json()\n",
    "    else:\n",
    "        return f\"Error: {response.status_code}\"\n",
    "\n",
    "interface = Interface(\n",
    "    fn=api_request,\n",
    "    inputs=[Textbox(label=\"API URL\")],\n",
    "    outputs=[JSON(label=\"JSON Response\")],\n",
    "    title=\"API Get Request Tester\",\n",
    "    description=\"Enter an API URL and retrieve the JSON response.\",\n",
    "    examples=[[\"http://127.0.0.1:7861/?text=Hello\"],\n",
    "              [\"https://api.open-meteo.com/v1/forecast?latitude=52.52&longitude=13.41&current=temperature_2m,wind_speed_10m&hourly=temperature_2m,relative_humidity_2m,wind_speed_10m\"]],  # Use the correct endpoint\n",
    ")\n",
    "interface.launch()\n"
   ]
  },
  {
   "cell_type": "code",
   "execution_count": null,
   "metadata": {},
   "outputs": [],
   "source": [
    "from gradio import Interface, Textbox, JSON\n",
    "\n",
    "def api_request(url):\n",
    "  \"\"\"\n",
    "  Fetches the JSON response from the given URL using a GET request.\n",
    "  \"\"\"\n",
    "  import requests\n",
    "  response = requests.get(url)\n",
    "  if response.status_code == 200:\n",
    "    return response.json()\n",
    "  else:\n",
    "    return f\"Error: {response.status_code}\"\n",
    "\n",
    "# Define the Gradio interface\n",
    "interface = Interface(\n",
    "  fn=api_request,\n",
    "  inputs=[Textbox(label=\"API URL\")],\n",
    "  outputs=[JSON(label=\"JSON Response\")],\n",
    "  title=\"API Get Request Tester\",\n",
    "  description=\"Enter an API URL and retrieve the JSON response.\",\n",
    "  examples=[]\n",
    ")\n",
    "# Launch the web interface\n",
    "interface.launch()"
   ]
  },
  {
   "cell_type": "code",
   "execution_count": null,
   "metadata": {},
   "outputs": [],
   "source": []
  }
 ],
 "metadata": {
  "kernelspec": {
   "display_name": ".venv",
   "language": "python",
   "name": "python3"
  },
  "language_info": {
   "codemirror_mode": {
    "name": "ipython",
    "version": 3
   },
   "file_extension": ".py",
   "mimetype": "text/x-python",
   "name": "python",
   "nbconvert_exporter": "python",
   "pygments_lexer": "ipython3",
   "version": "3.10.12"
  }
 },
 "nbformat": 4,
 "nbformat_minor": 2
}
