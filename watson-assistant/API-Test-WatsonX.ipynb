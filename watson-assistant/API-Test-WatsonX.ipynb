{
 "cells": [
  {
   "cell_type": "markdown",
   "metadata": {},
   "source": [
    "# API Test WatsonX Medical\n",
    "In thise notebook just we will test our api to make queries to our server api\n",
    "that has running the backend app of the container. "
   ]
  },
  {
   "cell_type": "code",
   "execution_count": 22,
   "metadata": {},
   "outputs": [],
   "source": [
    "from gradio_client import Client\n",
    "import json\n",
    "import requests\n",
    "def test_api_connection(api_url):\n",
    "    try:\n",
    "        response = requests.get(api_url, timeout=5)\n",
    "        if response.status_code == 200:\n",
    "            return True\n",
    "    except requests.exceptions.RequestException:\n",
    "        pass\n",
    "    return False"
   ]
  },
  {
   "cell_type": "code",
   "execution_count": 23,
   "metadata": {},
   "outputs": [
    {
     "name": "stdout",
     "output_type": "stream",
     "text": [
      "Connected to API: https://watsonx-medical.16jc1w8uq8wb.us-south.codeengine.appdomain.cloud/\n"
     ]
    }
   ],
   "source": [
    "REMOTE_API = \"https://watsonx-medical.16jc1w8uq8wb.us-south.codeengine.appdomain.cloud/\"\n",
    "LOCAL_API = \"http://127.0.0.1:7860/\"\n",
    "api_to_connect = None\n",
    "if test_api_connection(REMOTE_API):\n",
    "    api_to_connect = REMOTE_API\n",
    "elif test_api_connection(LOCAL_API):\n",
    "    api_to_connect = LOCAL_API\n",
    "else:\n",
    "    print(\"There are no APIs to connect\")\n",
    "\n",
    "if api_to_connect:\n",
    "    print(f\"Connected to API: {api_to_connect}\")\n"
   ]
  },
  {
   "cell_type": "code",
   "execution_count": 24,
   "metadata": {},
   "outputs": [],
   "source": [
    "query=\"I have drink too much alcohol and I have headache what should do\""
   ]
  },
  {
   "cell_type": "code",
   "execution_count": 25,
   "metadata": {},
   "outputs": [
    {
     "name": "stdout",
     "output_type": "stream",
     "text": [
      "Loaded as API: https://watsonx-medical.16jc1w8uq8wb.us-south.codeengine.appdomain.cloud/ ✔\n"
     ]
    }
   ],
   "source": [
    "client = Client(api_to_connect)\n",
    "result = client.predict(\n",
    "\t\tquery,\t# str  in 'message' Textbox component\n",
    "\t\tapi_name=\"/predict\"\n",
    ")"
   ]
  },
  {
   "cell_type": "code",
   "execution_count": 26,
   "metadata": {},
   "outputs": [
    {
     "name": "stdout",
     "output_type": "stream",
     "text": [
      "{\n",
      "  \"user\": \"I have drink too much alcohol and I have headache what should do\",\n",
      "  \"ai\": \"If you've had too much alcohol and are experiencing a headache, it's important to drink plenty of water and rest. Over-the-counter pain relievers can also help alleviate the pain. However, if your headache persists or worsens, or if you experience any other symptoms such as chest pain, difficulty breathing, or nausea, seek immediate medical attention.\"\n",
      "}\n"
     ]
    }
   ],
   "source": [
    "# Read the JSON file\n",
    "with open(result, 'r') as f:\n",
    "    data = json.load(f)\n",
    "# Convert the list to a dictionary\n",
    "data_dict = {\"user\": data[0][0], \"ai\": data[0][1]}\n",
    "# Print the content of the dictionary\n",
    "output_json=json.dumps(data_dict, indent=2)\n",
    "print(output_json)\n",
    "  "
   ]
  },
  {
   "cell_type": "code",
   "execution_count": 27,
   "metadata": {},
   "outputs": [
    {
     "name": "stdout",
     "output_type": "stream",
     "text": [
      "Loaded as API: https://watsonx-medical.16jc1w8uq8wb.us-south.codeengine.appdomain.cloud/ ✔\n"
     ]
    }
   ],
   "source": [
    "client = Client(api_to_connect)\n",
    "def askme_api(query,client):\n",
    "    result = client.predict(\n",
    "            query,\t# str  in 'message' Textbox component\n",
    "            api_name=\"/predict\"\n",
    "    )\n",
    "    # Read the JSON file\n",
    "    with open(result, 'r') as f:\n",
    "        data = json.load(f)\n",
    "    # Convert the list to a dictionary\n",
    "    data_dict = {\"user\": data[0][0], \"ai\": data[0][1]}\n",
    "    # Print the content of the dictionary\n",
    "    output_json=json.dumps(data_dict, indent=2)\n",
    "    print(output_json)    "
   ]
  },
  {
   "cell_type": "code",
   "execution_count": 28,
   "metadata": {},
   "outputs": [
    {
     "name": "stdout",
     "output_type": "stream",
     "text": [
      "{\n",
      "  \"user\": \"I have drink too much alcohol and I have headache what should do\",\n",
      "  \"ai\": \"If you've had too much alcohol and are experiencing a headache, it's important to drink plenty of water and rest. Over-the-counter pain relievers can also help alleviate the pain. However, if your headache persists or worsens, or if you experience any other symptoms such as chest pain, difficulty breathing, or nausea, seek immediate medical attention.\"\n",
      "}\n"
     ]
    }
   ],
   "source": [
    "askme_api(query,client)"
   ]
  },
  {
   "cell_type": "code",
   "execution_count": 29,
   "metadata": {},
   "outputs": [],
   "source": [
    "questions=[\"I have headache due to I drink too much alcohol what should do?\",\n",
    "           \"I have acne. Can I use Pantoprazole with Cutein?\",\n",
    "           \"My baby has diarrhea  yellow for 2 days , it has 14 months what should I do?\"]"
   ]
  },
  {
   "cell_type": "code",
   "execution_count": 30,
   "metadata": {},
   "outputs": [
    {
     "name": "stdout",
     "output_type": "stream",
     "text": [
      "{\n",
      "  \"user\": \"I have drink too much alcohol and I have headache what should do\",\n",
      "  \"ai\": \"If you've had too much alcohol and are experiencing a headache, it's important to drink plenty of water and rest. Over-the-counter pain relievers can also help alleviate the pain. However, if your headache persists or worsens, or if you experience any other symptoms such as chest pain, difficulty breathing, or nausea, seek immediate medical attention.\"\n",
      "}\n",
      "Runtime: 2.35 seconds\n",
      "\n",
      "{\n",
      "  \"user\": \"I have drink too much alcohol and I have headache what should do\",\n",
      "  \"ai\": \"If you've had too much alcohol and are experiencing a headache, it's important to drink plenty of water and rest. Over-the-counter pain relievers can also help alleviate the pain. However, if your headache persists or worsens, or if you experience any other symptoms such as chest pain, difficulty breathing, or nausea, seek immediate medical attention.\"\n",
      "}\n",
      "Runtime: 3.12 seconds\n",
      "\n",
      "{\n",
      "  \"user\": \"I have drink too much alcohol and I have headache what should do\",\n",
      "  \"ai\": \"If you've had too much alcohol and are experiencing a headache, it's important to drink plenty of water and rest. Over-the-counter pain relievers can also help alleviate the pain. However, if your headache persists or worsens, or if you experience any other symptoms such as chest pain, difficulty breathing, or nausea, seek immediate medical attention.\"\n",
      "}\n",
      "Runtime: 5.61 seconds\n",
      "\n"
     ]
    }
   ],
   "source": [
    "import time\n",
    "times = []\n",
    "for question in questions:\n",
    "    start_time = time.time()\n",
    "    askme_api(question,client)\n",
    "    end_time = time.time()\n",
    "    elapsed_time = end_time - start_time\n",
    "    times.append(elapsed_time)\n",
    "    # Print the elapsed time with 2 digits after the seconds\n",
    "    print(\"Runtime:\", \"{:.2f}\".format(elapsed_time), \"seconds\")\n",
    "    print()\n"
   ]
  },
  {
   "cell_type": "markdown",
   "metadata": {},
   "source": [
    "## Comparison Remote vs Local"
   ]
  },
  {
   "cell_type": "code",
   "execution_count": 32,
   "metadata": {},
   "outputs": [
    {
     "name": "stdout",
     "output_type": "stream",
     "text": [
      "Loaded as API: https://watsonx-medical.16jc1w8uq8wb.us-south.codeengine.appdomain.cloud/ ✔\n",
      "Loaded as API: http://127.0.0.1:7860/ ✔\n",
      "{\n",
      "  \"user\": \"I have headache due to I drink too much alcohol what should do?\",\n",
      "  \"ai\": \"If you're experiencing a headache due to alcohol consumption, try avoiding further alcohol intake and staying hydrated. Over-the-counter pain relievers can also help alleviate the symptoms. However, if your headache persists or worsens, it's essential to consult a healthcare professional for a proper evaluation.\"\n",
      "}\n",
      "Runtime Remote: 2.63 seconds\n",
      "\n",
      "{\n",
      "  \"user\": \"I have headache due to I drink too much alcohol what should do?\",\n",
      "  \"ai\": \"If you're experiencing a headache due to alcohol consumption, try avoiding further alcohol intake and staying hydrated. Over-the-counter pain relievers can also help alleviate the symptoms. However, if your headache persists or worsens, it's essential to consult a healthcare professional for a proper evaluation.\"\n",
      "}\n",
      "Runtime Local: 3.09 seconds\n",
      "\n",
      "{\n",
      "  \"user\": \"I have headache due to I drink too much alcohol what should do?\",\n",
      "  \"ai\": \"If you're experiencing a headache due to alcohol consumption, try avoiding further alcohol intake and staying hydrated. Over-the-counter pain relievers can also help alleviate the symptoms. However, if your headache persists or worsens, it's essential to consult a healthcare professional for a proper evaluation.\"\n",
      "}\n",
      "Runtime Remote: 2.93 seconds\n",
      "\n",
      "{\n",
      "  \"user\": \"I have headache due to I drink too much alcohol what should do?\",\n",
      "  \"ai\": \"If you're experiencing a headache due to alcohol consumption, try avoiding further alcohol intake and staying hydrated. Over-the-counter pain relievers can also help alleviate the symptoms. However, if your headache persists or worsens, it's essential to consult a healthcare professional for a proper evaluation.\"\n",
      "}\n",
      "Runtime Local: 3.12 seconds\n",
      "\n",
      "{\n",
      "  \"user\": \"I have headache due to I drink too much alcohol what should do?\",\n",
      "  \"ai\": \"If you're experiencing a headache due to alcohol consumption, try avoiding further alcohol intake and staying hydrated. Over-the-counter pain relievers can also help alleviate the symptoms. However, if your headache persists or worsens, it's essential to consult a healthcare professional for a proper evaluation.\"\n",
      "}\n",
      "Runtime Remote: 5.69 seconds\n",
      "\n",
      "{\n",
      "  \"user\": \"I have headache due to I drink too much alcohol what should do?\",\n",
      "  \"ai\": \"If you're experiencing a headache due to alcohol consumption, try avoiding further alcohol intake and staying hydrated. Over-the-counter pain relievers can also help alleviate the symptoms. However, if your headache persists or worsens, it's essential to consult a healthcare professional for a proper evaluation.\"\n",
      "}\n",
      "Runtime Local: 5.89 seconds\n",
      "\n"
     ]
    }
   ],
   "source": [
    "REMOTE_API = \"https://watsonx-medical.16jc1w8uq8wb.us-south.codeengine.appdomain.cloud/\"\n",
    "LOCAL_API = \"http://127.0.0.1:7860/\"\n",
    "api_to_connect = None\n",
    "if test_api_connection(REMOTE_API) and test_api_connection(LOCAL_API):\n",
    "    api_to_connect_remote = REMOTE_API\n",
    "    client_remote = Client(api_to_connect_remote)\n",
    "    api_to_connect_local = LOCAL_API\n",
    "    client_local = Client(api_to_connect_local)\n",
    "    do_test=True\n",
    "else:\n",
    "    print(\"There are no APIs to connect\")\n",
    "    do_test=False\n",
    "\n",
    "questions=[\"I have headache due to I drink too much alcohol what should do?\",\n",
    "           \"I have acne. Can I use Pantoprazole with Cutein?\",\n",
    "           \"My baby has diarrhea  yellow for 2 days , it has 14 months what should I do?\"]\n",
    "import time\n",
    "\n",
    "times_remote = []\n",
    "times_local = []\n",
    "for question in questions:\n",
    "    start_time = time.time()\n",
    "    askme_api(question,client_remote)\n",
    "    end_time = time.time()\n",
    "    elapsed_time = end_time - start_time\n",
    "    times_remote.append(elapsed_time)\n",
    "    # Print the elapsed time with 2 digits after the seconds\n",
    "    print(\"Runtime Remote:\", \"{:.2f}\".format(elapsed_time), \"seconds\")\n",
    "    print()\n",
    "\n",
    "    start_time = time.time()\n",
    "    askme_api(question,client_local)\n",
    "    end_time = time.time()\n",
    "    elapsed_time = end_time - start_time\n",
    "    times_local.append(elapsed_time)\n",
    "    # Print the elapsed time with 2 digits after the seconds\n",
    "    print(\"Runtime Local:\", \"{:.2f}\".format(elapsed_time), \"seconds\")\n",
    "    print()\n"
   ]
  },
  {
   "cell_type": "code",
   "execution_count": 40,
   "metadata": {},
   "outputs": [
    {
     "data": {
      "image/png": "[encoded data removed]",
      "text/plain": [
       "<Figure size 640x480 with 1 Axes>"
      ]
     },
     "metadata": {},
     "output_type": "display_data"
    }
   ],
   "source": [
    "import numpy as np\n",
    "import matplotlib.pyplot as plt\n",
    "def plot_times_comparison(times_remote, times_local):\n",
    "    index = np.arange(len(times_remote))\n",
    "    bar_width = 0.35\n",
    "\n",
    "    fig, ax = plt.subplots()\n",
    "    remote_bars = ax.bar(index, times_remote, bar_width, label=\"Remote\")\n",
    "    local_bars = ax.bar(index + bar_width, times_local, bar_width, label=\"Local\")\n",
    "\n",
    "    # Function to add text labels below each bar\n",
    "    def add_labels(bars, ax):\n",
    "        for bar in bars:\n",
    "            ax.text(bar.get_x() + bar.get_width() / 2, bar.get_height(), \"{:.2f}\".format(bar.get_height()), ha=\"center\", va=\"bottom\")\n",
    "\n",
    "    add_labels(remote_bars, ax)\n",
    "    add_labels(local_bars, ax)\n",
    "\n",
    "    #ax.set_xlabel(\"Index\")\n",
    "    ax.set_ylabel(\"Runtime Times (seconds)\")\n",
    "    ax.set_title(\"Runtime Times: Remote vs Local (seconds)\")\n",
    "    ax.set_xticks(index + bar_width / 2)\n",
    "    ax.set_xticklabels([f\"Question {i + 1}\" for i in index])\n",
    "    ax.legend()\n",
    "\n",
    "    plt.show()\n",
    "\n",
    "plot_times_comparison(times_remote, times_local)"
   ]
  }
 ],
 "metadata": {
  "kernelspec": {
   "display_name": ".venv",
   "language": "python",
   "name": "python3"
  },
  "language_info": {
   "codemirror_mode": {
    "name": "ipython",
    "version": 3
   },
   "file_extension": ".py",
   "mimetype": "text/x-python",
   "name": "python",
   "nbconvert_exporter": "python",
   "pygments_lexer": "ipython3",
   "version": "3.10.12"
  }
 },
 "nbformat": 4,
 "nbformat_minor": 2
}
