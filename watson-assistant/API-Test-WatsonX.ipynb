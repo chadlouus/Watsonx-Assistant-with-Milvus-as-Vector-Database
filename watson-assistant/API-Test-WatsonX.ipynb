{
 "cells": [
  {
   "cell_type": "markdown",
   "metadata": {},
   "source": [
    "# API Test WatsonX Medical\n",
    "In thise notebook just we will test our api to make queries to our server api\n",
    "that has running the backend app of the container. "
   ]
  },
  {
   "cell_type": "code",
   "execution_count": 1,
   "metadata": {},
   "outputs": [],
   "source": [
    "from gradio_client import Client\n",
    "import json"
   ]
  },
  {
   "cell_type": "code",
   "execution_count": 2,
   "metadata": {},
   "outputs": [],
   "source": [
    "query=\"I have drink too much alcohol and I have headache what should do\""
   ]
  },
  {
   "cell_type": "code",
   "execution_count": 3,
   "metadata": {},
   "outputs": [
    {
     "name": "stdout",
     "output_type": "stream",
     "text": [
      "Loaded as API: http://127.0.0.1:7860/ ✔\n",
      "/tmp/gradio/tmpect9y1pz.json\n"
     ]
    }
   ],
   "source": [
    "client = Client(\"http://127.0.0.1:7860/\")\n",
    "result = client.predict(\n",
    "\t\tquery,\t# str  in 'message' Textbox component\n",
    "\t\tapi_name=\"/predict\"\n",
    ")"
   ]
  },
  {
   "cell_type": "code",
   "execution_count": 18,
   "metadata": {},
   "outputs": [
    {
     "name": "stdout",
     "output_type": "stream",
     "text": [
      "{\n",
      "  \"user\": \"I have drink too much alcohol and I have headache what should do\",\n",
      "  \"ai\": \"If you've had too much alcohol and are experiencing a headache, it's important to drink plenty of water and rest. Over-the-counter pain relievers can also help alleviate the pain. However, if your headache persists or worsens, or if you experience any other symptoms such as chest pain, difficulty breathing, or nausea, seek immediate medical attention.\"\n",
      "}\n"
     ]
    }
   ],
   "source": [
    "# Read the JSON file\n",
    "with open(result, 'r') as f:\n",
    "    data = json.load(f)\n",
    "# Convert the list to a dictionary\n",
    "data_dict = {\"user\": data[0][0], \"ai\": data[0][1]}\n",
    "# Print the content of the dictionary\n",
    "output_json=json.dumps(data_dict, indent=2)\n",
    "print(output_json)\n",
    "  "
   ]
  }
 ],
 "metadata": {
  "kernelspec": {
   "display_name": ".venv",
   "language": "python",
   "name": "python3"
  },
  "language_info": {
   "codemirror_mode": {
    "name": "ipython",
    "version": 3
   },
   "file_extension": ".py",
   "mimetype": "text/x-python",
   "name": "python",
   "nbconvert_exporter": "python",
   "pygments_lexer": "ipython3",
   "version": "3.10.12"
  }
 },
 "nbformat": 4,
 "nbformat_minor": 2
}
