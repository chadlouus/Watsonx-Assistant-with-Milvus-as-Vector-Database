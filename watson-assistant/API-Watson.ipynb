{
 "cells": [
  {
   "cell_type": "markdown",
   "metadata": {},
   "source": [
    "# API Test WatsonX Medical\n",
    "In thise notebook just we will test our api to make queries to our server api\n",
    "that has running the backend app of the container. "
   ]
  },
  {
   "cell_type": "code",
   "execution_count": 2,
   "metadata": {},
   "outputs": [],
   "source": [
    "from gradio_client import Client\n",
    "import json\n",
    "import requests\n",
    "def test_api_connection(api_url):\n",
    "    try:\n",
    "        response = requests.get(api_url, timeout=5)\n",
    "        if response.status_code == 200:\n",
    "            return True\n",
    "    except requests.exceptions.RequestException:\n",
    "        pass\n",
    "    return False"
   ]
  },
  {
   "cell_type": "code",
   "execution_count": 3,
   "metadata": {},
   "outputs": [
    {
     "name": "stdout",
     "output_type": "stream",
     "text": [
      "Connected to API: https://watsonx-medical.16jc1w8uq8wb.us-south.codeengine.appdomain.cloud/\n"
     ]
    }
   ],
   "source": [
    "REMOTE_API = \"https://watsonx-medical.16jc1w8uq8wb.us-south.codeengine.appdomain.cloud/\"\n",
    "LOCAL_API = \"http://127.0.0.1:7860/\"\n",
    "api_to_connect = None\n",
    "if test_api_connection(REMOTE_API):\n",
    "    api_to_connect = REMOTE_API\n",
    "elif test_api_connection(LOCAL_API):\n",
    "    api_to_connect = LOCAL_API\n",
    "else:\n",
    "    print(\"There are no APIs to connect\")\n",
    "\n",
    "if api_to_connect:\n",
    "    print(f\"Connected to API: {api_to_connect}\")\n"
   ]
  },
  {
   "cell_type": "code",
   "execution_count": 4,
   "metadata": {},
   "outputs": [],
   "source": [
    "query=\"I have drink too much alcohol and I have headache what should do\""
   ]
  },
  {
   "cell_type": "code",
   "execution_count": 5,
   "metadata": {},
   "outputs": [
    {
     "name": "stdout",
     "output_type": "stream",
     "text": [
      "Loaded as API: https://watsonx-medical.16jc1w8uq8wb.us-south.codeengine.appdomain.cloud/ ✔\n"
     ]
    }
   ],
   "source": [
    "client = Client(api_to_connect)\n",
    "result = client.predict(\n",
    "\t\tquery,\t# str  in 'message' Textbox component\n",
    "\t\tapi_name=\"/predict\"\n",
    ")"
   ]
  },
  {
   "cell_type": "code",
   "execution_count": 6,
   "metadata": {},
   "outputs": [
    {
     "name": "stdout",
     "output_type": "stream",
     "text": [
      "{\n",
      "  \"user\": \"I have drink too much alcohol and I have headache what should do\",\n",
      "  \"ai\": \"If you've had too much alcohol and are experiencing a headache, it's important to drink plenty of water and rest. Over-the-counter pain relievers can also help alleviate the pain. However, if your headache persists or worsens, or if you experience any other symptoms such as chest pain, difficulty breathing, or nausea, seek immediate medical attention.\"\n",
      "}\n"
     ]
    }
   ],
   "source": [
    "# Read the JSON file\n",
    "with open(result, 'r') as f:\n",
    "    data = json.load(f)\n",
    "# Convert the list to a dictionary\n",
    "data_dict = {\"user\": data[0][0], \"ai\": data[0][1]}\n",
    "# Print the content of the dictionary\n",
    "output_json=json.dumps(data_dict, indent=2)\n",
    "print(output_json)\n",
    "  "
   ]
  }
 ],
 "metadata": {
  "kernelspec": {
   "display_name": ".venv",
   "language": "python",
   "name": "python3"
  },
  "language_info": {
   "codemirror_mode": {
    "name": "ipython",
    "version": 3
   },
   "file_extension": ".py",
   "mimetype": "text/x-python",
   "name": "python",
   "nbconvert_exporter": "python",
   "pygments_lexer": "ipython3",
   "version": "3.10.12"
  }
 },
 "nbformat": 4,
 "nbformat_minor": 2
}
