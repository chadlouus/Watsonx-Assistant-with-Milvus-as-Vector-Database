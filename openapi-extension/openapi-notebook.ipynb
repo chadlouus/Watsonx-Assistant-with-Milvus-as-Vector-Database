{
 "cells": [
  {
   "cell_type": "markdown",
   "metadata": {},
   "source": [
    "## Testing OpenAPI -  Swagger Applications"
   ]
  },
  {
   "cell_type": "markdown",
   "metadata": {},
   "source": [
    "In ordering to connect a custom serveless application in Watson Assistant we Require to build a custom extension designed in openapi, for this reason in this notebook we just learn how to build it , starting with the hello world example and later build a more complex extension."
   ]
  },
  {
   "cell_type": "markdown",
   "metadata": {},
   "source": [
    "## Example 1"
   ]
  },
  {
   "cell_type": "code",
   "execution_count": 5,
   "metadata": {},
   "outputs": [
    {
     "name": "stdout",
     "output_type": "stream",
     "text": [
      "API endpoint '/' is working well.\n"
     ]
    }
   ],
   "source": [
    "import json\n",
    "import requests\n",
    "\n",
    "# Load the openapi.json file\n",
    "with open('example1/openapi.json', 'r') as file:\n",
    "    openapi_data = json.load(file)\n",
    "\n",
    "# Get the base URL of the API from the openapi.json file\n",
    "base_url = openapi_data['servers'][0]['url']\n",
    "\n",
    "# Define a function to test a specific API endpoint\n",
    "def test_endpoint(endpoint, method, parameters=None):\n",
    "    url = f\"{base_url}{endpoint}\"\n",
    "    response = requests.request(method, url, params=parameters)\n",
    "    \n",
    "    if response.status_code == 200:\n",
    "        print(f\"API endpoint '{endpoint}' is working well.\")\n",
    "    else:\n",
    "        print(f\"API endpoint '{endpoint}' returned status code {response.status_code}.\")\n",
    "\n",
    "# Use the function to test the example endpoint\n",
    "example_endpoint = '/'\n",
    "example_method = 'GET'\n",
    "\n",
    "test_endpoint(example_endpoint, example_method)\n"
   ]
  },
  {
   "cell_type": "markdown",
   "metadata": {},
   "source": [
    "## Example 2"
   ]
  },
  {
   "cell_type": "code",
   "execution_count": 11,
   "metadata": {},
   "outputs": [
    {
     "name": "stdout",
     "output_type": "stream",
     "text": [
      "API endpoint '/' is working well.\n",
      "API endpoint '/cloud-function' is working well.\n"
     ]
    }
   ],
   "source": [
    "import json\n",
    "import requests\n",
    "\n",
    "# Load the openapi.json file\n",
    "with open('example2/openapi.json', 'r') as file:\n",
    "    openapi_data = json.load(file)\n",
    "\n",
    "# Get the base URL of the API from the openapi.json file\n",
    "base_url = openapi_data['servers'][0]['url']\n",
    "\n",
    "# Define a function to test a specific API endpoint\n",
    "def test_endpoint(endpoint, method, parameters=None, data=None):\n",
    "    url = f\"{base_url}{endpoint}\"\n",
    "    response = requests.request(method, url, params=parameters, json=data)\n",
    "    \n",
    "    if response.status_code == 200:\n",
    "        print(f\"API endpoint '{endpoint}' is working well.\")\n",
    "    else:\n",
    "        print(f\"API endpoint '{endpoint}' returned status code {response.status_code}.\")\n",
    "\n",
    "# Test the GET request on the root endpoint\n",
    "test_endpoint('/', 'GET')\n",
    "\n",
    "# Test the POST request on the /cloud-function endpoint\n",
    "example_endpoint = '/cloud-function'\n",
    "example_method = 'POST'\n",
    "example_data = {'object_of_interest': 'Eiffel Tower'}\n",
    "\n",
    "test_endpoint(example_endpoint, example_method, data=example_data)"
   ]
  },
  {
   "cell_type": "markdown",
   "metadata": {},
   "source": [
    "## Example 3"
   ]
  },
  {
   "cell_type": "code",
   "execution_count": 12,
   "metadata": {},
   "outputs": [
    {
     "name": "stdout",
     "output_type": "stream",
     "text": [
      "API endpoint '/cloud-function' is working well.\n"
     ]
    }
   ],
   "source": [
    "import json\n",
    "import requests\n",
    "\n",
    "# Load the openapi.json file\n",
    "with open('example3/openapi.json', 'r') as file:\n",
    "    openapi_data = json.load(file)\n",
    "\n",
    "# Get the base URL of the API from the openapi.json file\n",
    "base_url = openapi_data['servers'][0]['url']\n",
    "\n",
    "# Define a function to test a specific API endpoint\n",
    "def test_endpoint(endpoint, method, parameters=None, data=None):\n",
    "    url = f\"{base_url}{endpoint}\"\n",
    "    response = requests.request(method, url, params=parameters, json=data)\n",
    "    \n",
    "    if response.status_code == 200:\n",
    "        print(f\"API endpoint '{endpoint}' is working well.\")\n",
    "    else:\n",
    "        print(f\"API endpoint '{endpoint}' returned status code {response.status_code}.\")\n",
    "# Test the POST request on the /cloud-function endpoint\n",
    "example_endpoint = '/cloud-function'\n",
    "example_method = 'POST'\n",
    "example_data = {'object_of_interest': 'Eiffel Tower'}\n",
    "\n",
    "test_endpoint(example_endpoint, example_method, data=example_data)"
   ]
  },
  {
   "cell_type": "code",
   "execution_count": 14,
   "metadata": {},
   "outputs": [],
   "source": [
    "# Define a function to test a specific API endpoint\n",
    "def run_endpoint(endpoint, method, parameters=None, data=None):\n",
    "    url = f\"{base_url}{endpoint}\"\n",
    "    response = requests.request(method, url, params=parameters, json=data)\n",
    "    \n",
    "    if response.status_code == 200:\n",
    "        print(f\"API endpoint '{endpoint}' is working well.\")\n",
    "    else:\n",
    "        print(f\"API endpoint '{endpoint}' returned status code {response.status_code}.\")\n",
    "    \n",
    "    return response"
   ]
  },
  {
   "cell_type": "code",
   "execution_count": 15,
   "metadata": {},
   "outputs": [
    {
     "name": "stdout",
     "output_type": "stream",
     "text": [
      "API endpoint '/cloud-function' is working well.\n",
      "Response data:\n",
      "{\n",
      "  \"object_of_interest\": \"Eiffel Tower\",\n",
      "  \"summary\": \"The Eiffel Tower is a wrought-iron lattice tower on the Champ de Mars in Paris, France. It is named after the engineer Gustave Eiffel, whose company designed and built the tower from 1887 to 1889.\"\n",
      "}\n"
     ]
    }
   ],
   "source": [
    "# Define a function to test the API endpoint and print the results\n",
    "def test_and_print_results(endpoint, method, data=None):\n",
    "    response = run_endpoint(endpoint, method, data=data)\n",
    "    \n",
    "    if response.status_code == 200:\n",
    "        response_data = response.json()\n",
    "        print(\"Response data:\")\n",
    "        print(json.dumps(response_data, indent=2))\n",
    "    else:\n",
    "        print(\"Error occurred. No data to display.\")\n",
    "\n",
    "# Test the POST request on the /cloud-function endpoint\n",
    "example_endpoint = '/cloud-function'\n",
    "example_method = 'POST'\n",
    "example_data = {'object_of_interest': 'Eiffel Tower'}\n",
    "test_and_print_results(example_endpoint, example_method, data=example_data)"
   ]
  },
  {
   "cell_type": "markdown",
   "metadata": {},
   "source": [
    "## Chat"
   ]
  },
  {
   "cell_type": "code",
   "execution_count": 19,
   "metadata": {},
   "outputs": [
    {
     "name": "stdout",
     "output_type": "stream",
     "text": [
      "API endpoint '/chat' is working well.\n",
      "API endpoint '/chat' is working well.\n",
      "Response data:\n",
      "{\n",
      "  \"history\": [\n",
      "    [\n",
      "      \"Hello Chat\",\n",
      "      \"Echo: Hello Chat\"\n",
      "    ]\n",
      "  ],\n",
      "  \"message\": \"Hello Chat\",\n",
      "  \"response\": \"Echo: Hello Chat\"\n",
      "}\n"
     ]
    }
   ],
   "source": [
    "import json\n",
    "import requests\n",
    "\n",
    "# Load the openapi.json file\n",
    "with open('chat/openapi.json', 'r') as file:\n",
    "    openapi_data = json.load(file)\n",
    "\n",
    "# Get the base URL of the API from the openapi.json file\n",
    "base_url = openapi_data['servers'][0]['url']\n",
    "\n",
    "# Define a function to test a specific API endpoint\n",
    "def test_endpoint(endpoint, method, parameters=None, data=None):\n",
    "    url = f\"{base_url}{endpoint}\"\n",
    "    response = requests.request(method, url, params=parameters, json=data)\n",
    "    if response.status_code == 200:\n",
    "        print(f\"API endpoint '{endpoint}' is working well.\")\n",
    "    else:\n",
    "        print(f\"API endpoint '{endpoint}' returned status code {response.status_code}.\")\n",
    "\n",
    "# Define a function to run a specific API endpoint\n",
    "def run_endpoint(endpoint, method, parameters=None, data=None):\n",
    "    url = f\"{base_url}{endpoint}\"\n",
    "    response = requests.request(method, url, params=parameters, json=data)\n",
    "    \n",
    "    if response.status_code == 200:\n",
    "        print(f\"API endpoint '{endpoint}' is working well.\")\n",
    "    else:\n",
    "        print(f\"API endpoint '{endpoint}' returned status code {response.status_code}.\")\n",
    "    \n",
    "    return response\n",
    "\n",
    "# Define a function to test the API endpoint and print the results\n",
    "def test_and_print_results(endpoint, method, data=None):\n",
    "    response = run_endpoint(endpoint, method, data=data)\n",
    "    \n",
    "    if response.status_code == 200:\n",
    "        response_data = response.json()\n",
    "        print(\"Response data:\")\n",
    "        print(json.dumps(response_data, indent=2))\n",
    "    else:\n",
    "        print(\"Error occurred. No data to display.\")\n",
    "\n",
    "# Test the POST request on the /chat endpoint\n",
    "example_endpoint = '/chat'\n",
    "example_method = 'POST'\n",
    "example_data = {'message': 'Hello Chat'}\n",
    "\n",
    "test_endpoint(example_endpoint, example_method, data=example_data)\n",
    "test_and_print_results(example_endpoint, example_method, data=example_data)\n"
   ]
  }
 ],
 "metadata": {
  "kernelspec": {
   "display_name": ".venv",
   "language": "python",
   "name": "python3"
  },
  "language_info": {
   "codemirror_mode": {
    "name": "ipython",
    "version": 3
   },
   "file_extension": ".py",
   "mimetype": "text/x-python",
   "name": "python",
   "nbconvert_exporter": "python",
   "pygments_lexer": "ipython3",
   "version": "3.10.12"
  }
 },
 "nbformat": 4,
 "nbformat_minor": 2
}
